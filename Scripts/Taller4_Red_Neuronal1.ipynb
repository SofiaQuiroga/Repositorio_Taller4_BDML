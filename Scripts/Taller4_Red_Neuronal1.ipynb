{
  "cells": [
    {
      "cell_type": "markdown",
      "metadata": {
        "id": "view-in-github",
        "colab_type": "text"
      },
      "source": [
        "<a href=\"https://colab.research.google.com/github/SofiaQuiroga/Repositorio_Taller4_BDML/blob/main/Taller4_Red_Neuronal1.ipynb\" target=\"_parent\"><img src=\"https://colab.research.google.com/assets/colab-badge.svg\" alt=\"Open In Colab\"/></a>"
      ]
    },
    {
      "cell_type": "markdown",
      "metadata": {
        "id": "aJ8PSgJYHpgZ"
      },
      "source": [
        "<style type=\"text/css\">\n",
        "\n",
        ".responsive {\n",
        " width: 100%;\n",
        " height: 25%;\n",
        "}\n",
        "\n",
        ".list-group-item.active, .list-group-item.active:focus, .list-group-item.active:hover {\n",
        "    z-index: 2;\n",
        "    color: #fff;\n",
        "    background-color: #1B175E;\n",
        "    border-color: #337ab7;\n",
        "}\n",
        "h1, h2, h3, h4 {\n",
        "    color: #000002;\n",
        "    background-color: #1B175E;\n",
        "    background-image:\n",
        "      linear-gradient(to right,\n",
        "       #fff, #ffff00\n",
        "     );\n",
        "\n",
        "}\n",
        "\n",
        "h1, h2, h3, h4, p {\n",
        "    color: #000002;\n",
        "}\n",
        "\n",
        "a {\n",
        "    color: #1B175E;\n",
        "}\n",
        "</style>\n"
      ]
    },
    {
      "cell_type": "code",
      "execution_count": 230,
      "metadata": {
        "vscode": {
          "languageId": "r"
        },
        "id": "np_YHaypHpgb"
      },
      "outputs": [],
      "source": [
        "rm(list = ls())\n"
      ]
    },
    {
      "cell_type": "code",
      "execution_count": 231,
      "metadata": {
        "vscode": {
          "languageId": "r"
        },
        "colab": {
          "base_uri": "https://localhost:8080/"
        },
        "id": "wioluF_8Hpge",
        "outputId": "a4c285eb-2052-4bf0-98e6-bcc2738a220a"
      },
      "outputs": [
        {
          "output_type": "stream",
          "name": "stderr",
          "text": [
            "Installing package into ‘/usr/local/lib/R/site-library’\n",
            "(as ‘lib’ is unspecified)\n",
            "\n"
          ]
        }
      ],
      "source": [
        "install.packages('keras')\n",
        "library(keras)"
      ]
    },
    {
      "cell_type": "markdown",
      "metadata": {
        "id": "vshI4VN1Hpgi"
      },
      "source": [
        "# Modelo\n",
        "Vamos a crear una red neuronal que solo tenga una hidden layer. Vamos a usar la siguiente regla del pulgar para escoger el número de neuronas:\n",
        "$$N_h=\\frac{N_s}{\\alpha\\cdot(N_i+N_o)}$$\n",
        "En donde:\n",
        "- $N_i:$ Es el número de las neuronas inputs (número de columnas).\n",
        "- $N_o:$ Número de neuronas en la capa de salida (número de categorías posibles).\n",
        "- $N_s:$ Número de observaciones.\n",
        "- $\\alpha:$ Factor arbitrario entre 2 y 10.\n",
        "\n",
        "Se pueden crear n capas ocultas \n",
        "\n",
        "Tenemos la regla del pulgar que dice el estimado de más o menos cuantos nodos se deberían usar en una capa oculta.\n"
      ]
    },
    {
      "cell_type": "code",
      "source": [
        "# Importamos data, data_clean, tf_idf, tf_idf_reducido\n",
        "# https://github.com/ignaciomsarmiento/datasets/raw/main/datos_para_modelar.RData\n",
        "load(\"train_clean.RData\")"
      ],
      "metadata": {
        "id": "V7ydrAQPMKWq"
      },
      "execution_count": 232,
      "outputs": []
    },
    {
      "cell_type": "code",
      "source": [
        "sum(is.na(train_clean$name)) # data clean, mirar si tenemos datos faltantes"
      ],
      "metadata": {
        "colab": {
          "base_uri": "https://localhost:8080/",
          "height": 34
        },
        "id": "SRaOVOVpL4do",
        "outputId": "975c2112-7404-493b-c4b2-9da46d435ff8"
      },
      "execution_count": 233,
      "outputs": [
        {
          "output_type": "display_data",
          "data": {
            "text/html": [
              "0"
            ],
            "text/markdown": "0",
            "text/latex": "0",
            "text/plain": [
              "[1] 0"
            ]
          },
          "metadata": {}
        }
      ]
    },
    {
      "cell_type": "code",
      "source": [
        "table(train_clean$name)"
      ],
      "metadata": {
        "colab": {
          "base_uri": "https://localhost:8080/",
          "height": 69
        },
        "id": "AxlTm2ReL8Nw",
        "outputId": "65a9569c-30b3-4ddf-c885-f329e09a9126"
      },
      "execution_count": 234,
      "outputs": [
        {
          "output_type": "display_data",
          "data": {
            "text/plain": [
              "\n",
              "Lopez Petro Uribe \n",
              " 3468  2873  3000 "
            ]
          },
          "metadata": {}
        }
      ]
    },
    {
      "cell_type": "code",
      "source": [
        "library(dplyr)"
      ],
      "metadata": {
        "id": "RN_wYqr9PIpq"
      },
      "execution_count": 235,
      "outputs": []
    },
    {
      "cell_type": "code",
      "source": [
        "train_clean <- train_clean %>% mutate(name = factor(name, levels = c(\"Lopez\", \"Petro\", \"Uribe\"), labels = c(1, 2, 3)))\n"
      ],
      "metadata": {
        "id": "YWDSVoQVN_8q"
      },
      "execution_count": 236,
      "outputs": []
    },
    {
      "cell_type": "code",
      "source": [
        "head(train_clean)"
      ],
      "metadata": {
        "colab": {
          "base_uri": "https://localhost:8080/",
          "height": 286
        },
        "id": "T0MrHsLLPN5D",
        "outputId": "e9aea4e1-e29e-4381-cb52-dca9bb324248"
      },
      "execution_count": 237,
      "outputs": [
        {
          "output_type": "display_data",
          "data": {
            "text/html": [
              "<table class=\"dataframe\">\n",
              "<caption>A tibble: 6 × 3</caption>\n",
              "<thead>\n",
              "\t<tr><th scope=col>id</th><th scope=col>name</th><th scope=col>texto</th></tr>\n",
              "\t<tr><th scope=col>&lt;chr&gt;</th><th scope=col>&lt;fct&gt;</th><th scope=col>&lt;chr&gt;</th></tr>\n",
              "</thead>\n",
              "<tbody>\n",
              "\t<tr><td>0002fd5a5cc196257335c0d7</td><td>1</td><td>manana feria santamario show arbol abundancia ir invito ir disfrutar familiar amigo evento preparado amor podar celebrar junto navidad                                              </td></tr>\n",
              "\t<tr><td>00049c5a2f555cfd13544693</td><td>3</td><td>amenazar asesinar asesinar columnista emerson grajal                                                                                                                                </td></tr>\n",
              "\t<tr><td>0005c20695e7b3a5babff571</td><td>1</td><td>policia concentrarse seguridad ciudadana prevencion delito captura delincuente desarticulacion banda criminal bogota necesitar policia distraer tema margen prioridad               </td></tr>\n",
              "\t<tr><td>0005f46356c00cc4f5702f01</td><td>1</td><td>iniciar mesa tecnico presidente ratifico gobierno pondria recurso adicional caso importante aclarar aclarar ra linea construccion contrato vigente colombiano obra ejecucion seguira</td></tr>\n",
              "\t<tr><td>000ba279c4a0ff679d8d3fdc</td><td>3</td><td>elevado costo energiar europar                                                                                                                                                      </td></tr>\n",
              "\t<tr><td>0014838239be8f5311356c37</td><td>3</td><td>quema vehiculo extender suroeste antioquia                                                                                                                                          </td></tr>\n",
              "</tbody>\n",
              "</table>\n"
            ],
            "text/markdown": "\nA tibble: 6 × 3\n\n| id &lt;chr&gt; | name &lt;fct&gt; | texto &lt;chr&gt; |\n|---|---|---|\n| 0002fd5a5cc196257335c0d7 | 1 | manana feria santamario show arbol abundancia ir invito ir disfrutar familiar amigo evento preparado amor podar celebrar junto navidad                                               |\n| 00049c5a2f555cfd13544693 | 3 | amenazar asesinar asesinar columnista emerson grajal                                                                                                                                 |\n| 0005c20695e7b3a5babff571 | 1 | policia concentrarse seguridad ciudadana prevencion delito captura delincuente desarticulacion banda criminal bogota necesitar policia distraer tema margen prioridad                |\n| 0005f46356c00cc4f5702f01 | 1 | iniciar mesa tecnico presidente ratifico gobierno pondria recurso adicional caso importante aclarar aclarar ra linea construccion contrato vigente colombiano obra ejecucion seguira |\n| 000ba279c4a0ff679d8d3fdc | 3 | elevado costo energiar europar                                                                                                                                                       |\n| 0014838239be8f5311356c37 | 3 | quema vehiculo extender suroeste antioquia                                                                                                                                           |\n\n",
            "text/latex": "A tibble: 6 × 3\n\\begin{tabular}{lll}\n id & name & texto\\\\\n <chr> & <fct> & <chr>\\\\\n\\hline\n\t 0002fd5a5cc196257335c0d7 & 1 & manana feria santamario show arbol abundancia ir invito ir disfrutar familiar amigo evento preparado amor podar celebrar junto navidad                                              \\\\\n\t 00049c5a2f555cfd13544693 & 3 & amenazar asesinar asesinar columnista emerson grajal                                                                                                                                \\\\\n\t 0005c20695e7b3a5babff571 & 1 & policia concentrarse seguridad ciudadana prevencion delito captura delincuente desarticulacion banda criminal bogota necesitar policia distraer tema margen prioridad               \\\\\n\t 0005f46356c00cc4f5702f01 & 1 & iniciar mesa tecnico presidente ratifico gobierno pondria recurso adicional caso importante aclarar aclarar ra linea construccion contrato vigente colombiano obra ejecucion seguira\\\\\n\t 000ba279c4a0ff679d8d3fdc & 3 & elevado costo energiar europar                                                                                                                                                      \\\\\n\t 0014838239be8f5311356c37 & 3 & quema vehiculo extender suroeste antioquia                                                                                                                                          \\\\\n\\end{tabular}\n",
            "text/plain": [
              "  id                       name\n",
              "1 0002fd5a5cc196257335c0d7 1   \n",
              "2 00049c5a2f555cfd13544693 3   \n",
              "3 0005c20695e7b3a5babff571 1   \n",
              "4 0005f46356c00cc4f5702f01 1   \n",
              "5 000ba279c4a0ff679d8d3fdc 3   \n",
              "6 0014838239be8f5311356c37 3   \n",
              "  texto                                                                                                                                                                               \n",
              "1 manana feria santamario show arbol abundancia ir invito ir disfrutar familiar amigo evento preparado amor podar celebrar junto navidad                                              \n",
              "2 amenazar asesinar asesinar columnista emerson grajal                                                                                                                                \n",
              "3 policia concentrarse seguridad ciudadana prevencion delito captura delincuente desarticulacion banda criminal bogota necesitar policia distraer tema margen prioridad               \n",
              "4 iniciar mesa tecnico presidente ratifico gobierno pondria recurso adicional caso importante aclarar aclarar ra linea construccion contrato vigente colombiano obra ejecucion seguira\n",
              "5 elevado costo energiar europar                                                                                                                                                      \n",
              "6 quema vehiculo extender suroeste antioquia                                                                                                                                          "
            ]
          },
          "metadata": {}
        }
      ]
    },
    {
      "cell_type": "code",
      "source": [
        "Y_train <- train_clean$name\n",
        "Y_train <- to_categorical(Y_train) # convertir en variable categorica"
      ],
      "metadata": {
        "id": "CxUZFgqAJUsb"
      },
      "execution_count": 238,
      "outputs": []
    },
    {
      "cell_type": "code",
      "source": [
        "head(Y_train)"
      ],
      "metadata": {
        "colab": {
          "base_uri": "https://localhost:8080/",
          "height": 240
        },
        "id": "E62_QsjZMN-j",
        "outputId": "853af6e4-4367-4884-8686-349c3e8b739f"
      },
      "execution_count": 239,
      "outputs": [
        {
          "output_type": "display_data",
          "data": {
            "text/html": [
              "<table class=\"dataframe\">\n",
              "<caption>A matrix: 6 × 4 of type dbl</caption>\n",
              "<tbody>\n",
              "\t<tr><td>0</td><td>1</td><td>0</td><td>0</td></tr>\n",
              "\t<tr><td>0</td><td>0</td><td>0</td><td>1</td></tr>\n",
              "\t<tr><td>0</td><td>1</td><td>0</td><td>0</td></tr>\n",
              "\t<tr><td>0</td><td>1</td><td>0</td><td>0</td></tr>\n",
              "\t<tr><td>0</td><td>0</td><td>0</td><td>1</td></tr>\n",
              "\t<tr><td>0</td><td>0</td><td>0</td><td>1</td></tr>\n",
              "</tbody>\n",
              "</table>\n"
            ],
            "text/markdown": "\nA matrix: 6 × 4 of type dbl\n\n| 0 | 1 | 0 | 0 |\n| 0 | 0 | 0 | 1 |\n| 0 | 1 | 0 | 0 |\n| 0 | 1 | 0 | 0 |\n| 0 | 0 | 0 | 1 |\n| 0 | 0 | 0 | 1 |\n\n",
            "text/latex": "A matrix: 6 × 4 of type dbl\n\\begin{tabular}{llll}\n\t 0 & 1 & 0 & 0\\\\\n\t 0 & 0 & 0 & 1\\\\\n\t 0 & 1 & 0 & 0\\\\\n\t 0 & 1 & 0 & 0\\\\\n\t 0 & 0 & 0 & 1\\\\\n\t 0 & 0 & 0 & 1\\\\\n\\end{tabular}\n",
            "text/plain": [
              "     [,1] [,2] [,3] [,4]\n",
              "[1,] 0    1    0    0   \n",
              "[2,] 0    0    0    1   \n",
              "[3,] 0    1    0    0   \n",
              "[4,] 0    1    0    0   \n",
              "[5,] 0    0    0    1   \n",
              "[6,] 0    0    0    1   "
            ]
          },
          "metadata": {}
        }
      ]
    },
    {
      "cell_type": "code",
      "source": [
        "head(Y_train,10)\n",
        "dim(Y_train)\n",
        "class(Y_train)"
      ],
      "metadata": {
        "colab": {
          "base_uri": "https://localhost:8080/",
          "height": 400
        },
        "id": "Z6cLzklbkFLP",
        "outputId": "e3abb56d-164f-41c7-dcad-7d5078cd99a7"
      },
      "execution_count": 240,
      "outputs": [
        {
          "output_type": "display_data",
          "data": {
            "text/html": [
              "<table class=\"dataframe\">\n",
              "<caption>A matrix: 10 × 4 of type dbl</caption>\n",
              "<tbody>\n",
              "\t<tr><td>0</td><td>1</td><td>0</td><td>0</td></tr>\n",
              "\t<tr><td>0</td><td>0</td><td>0</td><td>1</td></tr>\n",
              "\t<tr><td>0</td><td>1</td><td>0</td><td>0</td></tr>\n",
              "\t<tr><td>0</td><td>1</td><td>0</td><td>0</td></tr>\n",
              "\t<tr><td>0</td><td>0</td><td>0</td><td>1</td></tr>\n",
              "\t<tr><td>0</td><td>0</td><td>0</td><td>1</td></tr>\n",
              "\t<tr><td>0</td><td>1</td><td>0</td><td>0</td></tr>\n",
              "\t<tr><td>0</td><td>1</td><td>0</td><td>0</td></tr>\n",
              "\t<tr><td>0</td><td>0</td><td>1</td><td>0</td></tr>\n",
              "\t<tr><td>0</td><td>0</td><td>0</td><td>1</td></tr>\n",
              "</tbody>\n",
              "</table>\n"
            ],
            "text/markdown": "\nA matrix: 10 × 4 of type dbl\n\n| 0 | 1 | 0 | 0 |\n| 0 | 0 | 0 | 1 |\n| 0 | 1 | 0 | 0 |\n| 0 | 1 | 0 | 0 |\n| 0 | 0 | 0 | 1 |\n| 0 | 0 | 0 | 1 |\n| 0 | 1 | 0 | 0 |\n| 0 | 1 | 0 | 0 |\n| 0 | 0 | 1 | 0 |\n| 0 | 0 | 0 | 1 |\n\n",
            "text/latex": "A matrix: 10 × 4 of type dbl\n\\begin{tabular}{llll}\n\t 0 & 1 & 0 & 0\\\\\n\t 0 & 0 & 0 & 1\\\\\n\t 0 & 1 & 0 & 0\\\\\n\t 0 & 1 & 0 & 0\\\\\n\t 0 & 0 & 0 & 1\\\\\n\t 0 & 0 & 0 & 1\\\\\n\t 0 & 1 & 0 & 0\\\\\n\t 0 & 1 & 0 & 0\\\\\n\t 0 & 0 & 1 & 0\\\\\n\t 0 & 0 & 0 & 1\\\\\n\\end{tabular}\n",
            "text/plain": [
              "      [,1] [,2] [,3] [,4]\n",
              " [1,] 0    1    0    0   \n",
              " [2,] 0    0    0    1   \n",
              " [3,] 0    1    0    0   \n",
              " [4,] 0    1    0    0   \n",
              " [5,] 0    0    0    1   \n",
              " [6,] 0    0    0    1   \n",
              " [7,] 0    1    0    0   \n",
              " [8,] 0    1    0    0   \n",
              " [9,] 0    0    1    0   \n",
              "[10,] 0    0    0    1   "
            ]
          },
          "metadata": {}
        },
        {
          "output_type": "display_data",
          "data": {
            "text/html": [
              "<style>\n",
              ".list-inline {list-style: none; margin:0; padding: 0}\n",
              ".list-inline>li {display: inline-block}\n",
              ".list-inline>li:not(:last-child)::after {content: \"\\00b7\"; padding: 0 .5ex}\n",
              "</style>\n",
              "<ol class=list-inline><li>9341</li><li>4</li></ol>\n"
            ],
            "text/markdown": "1. 9341\n2. 4\n\n\n",
            "text/latex": "\\begin{enumerate*}\n\\item 9341\n\\item 4\n\\end{enumerate*}\n",
            "text/plain": [
              "[1] 9341    4"
            ]
          },
          "metadata": {}
        },
        {
          "output_type": "display_data",
          "data": {
            "text/html": [
              "<style>\n",
              ".list-inline {list-style: none; margin:0; padding: 0}\n",
              ".list-inline>li {display: inline-block}\n",
              ".list-inline>li:not(:last-child)::after {content: \"\\00b7\"; padding: 0 .5ex}\n",
              "</style>\n",
              "<ol class=list-inline><li>'matrix'</li><li>'array'</li></ol>\n"
            ],
            "text/markdown": "1. 'matrix'\n2. 'array'\n\n\n",
            "text/latex": "\\begin{enumerate*}\n\\item 'matrix'\n\\item 'array'\n\\end{enumerate*}\n",
            "text/plain": [
              "[1] \"matrix\" \"array\" "
            ]
          },
          "metadata": {}
        }
      ]
    },
    {
      "cell_type": "code",
      "source": [
        "load(\"tf_idf_train.RData\")"
      ],
      "metadata": {
        "id": "hNLrfpa_QtcU"
      },
      "execution_count": 241,
      "outputs": []
    },
    {
      "cell_type": "code",
      "source": [
        "X <- as.matrix(tf_idf_train) # matriz de frecuencias\n",
        "class(X)"
      ],
      "metadata": {
        "colab": {
          "base_uri": "https://localhost:8080/",
          "height": 34
        },
        "id": "DMxHLjLtMMCZ",
        "outputId": "6ae97bf6-1398-4917-f0df-3aa81ba6b02d"
      },
      "execution_count": 242,
      "outputs": [
        {
          "output_type": "display_data",
          "data": {
            "text/html": [
              "<style>\n",
              ".list-inline {list-style: none; margin:0; padding: 0}\n",
              ".list-inline>li {display: inline-block}\n",
              ".list-inline>li:not(:last-child)::after {content: \"\\00b7\"; padding: 0 .5ex}\n",
              "</style>\n",
              "<ol class=list-inline><li>'matrix'</li><li>'array'</li></ol>\n"
            ],
            "text/markdown": "1. 'matrix'\n2. 'array'\n\n\n",
            "text/latex": "\\begin{enumerate*}\n\\item 'matrix'\n\\item 'array'\n\\end{enumerate*}\n",
            "text/plain": [
              "[1] \"matrix\" \"array\" "
            ]
          },
          "metadata": {}
        }
      ]
    },
    {
      "cell_type": "code",
      "source": [
        "dim(X) "
      ],
      "metadata": {
        "colab": {
          "base_uri": "https://localhost:8080/",
          "height": 34
        },
        "id": "py8d-AxJPOhA",
        "outputId": "06cce801-81c3-4e4f-b2e7-9d085a6da85b"
      },
      "execution_count": 262,
      "outputs": [
        {
          "output_type": "display_data",
          "data": {
            "text/html": [
              "<style>\n",
              ".list-inline {list-style: none; margin:0; padding: 0}\n",
              ".list-inline>li {display: inline-block}\n",
              ".list-inline>li:not(:last-child)::after {content: \"\\00b7\"; padding: 0 .5ex}\n",
              "</style>\n",
              "<ol class=list-inline><li>9341</li><li>17020</li></ol>\n"
            ],
            "text/markdown": "1. 9341\n2. 17020\n\n\n",
            "text/latex": "\\begin{enumerate*}\n\\item 9341\n\\item 17020\n\\end{enumerate*}\n",
            "text/plain": [
              "[1]  9341 17020"
            ]
          },
          "metadata": {}
        }
      ]
    },
    {
      "cell_type": "code",
      "source": [
        "#columnas <- colSums(tf_idf_train) %>%\n",
        "  data.frame() %>%\n",
        "  arrange(desc(.)) %>%\n",
        "  head(1000) %>% # Dejar las 1000 columnas de palabras más importantes\n",
        "  rownames()"
      ],
      "metadata": {
        "id": "bjeusmWkceuG"
      },
      "execution_count": 202,
      "outputs": []
    },
    {
      "cell_type": "code",
      "source": [
        "#tf_idf_train_reducido <- tf_idf_train %>% \n",
        "  select(all_of(columnas))"
      ],
      "metadata": {
        "id": "rb4RqkR6c4Xt"
      },
      "execution_count": 203,
      "outputs": []
    },
    {
      "cell_type": "code",
      "source": [
        "#X_train <- as.matrix(tf_idf_train_reducido)\n",
        "dim(X_train)"
      ],
      "metadata": {
        "colab": {
          "base_uri": "https://localhost:8080/",
          "height": 34
        },
        "id": "3sLyhGUAdMsk",
        "outputId": "a2ea7814-bc91-454c-d2a7-6df907598bd2"
      },
      "execution_count": 204,
      "outputs": [
        {
          "output_type": "display_data",
          "data": {
            "text/html": [
              "<style>\n",
              ".list-inline {list-style: none; margin:0; padding: 0}\n",
              ".list-inline>li {display: inline-block}\n",
              ".list-inline>li:not(:last-child)::after {content: \"\\00b7\"; padding: 0 .5ex}\n",
              "</style>\n",
              "<ol class=list-inline><li>9341</li><li>1000</li></ol>\n"
            ],
            "text/markdown": "1. 9341\n2. 1000\n\n\n",
            "text/latex": "\\begin{enumerate*}\n\\item 9341\n\\item 1000\n\\end{enumerate*}\n",
            "text/plain": [
              "[1] 9341 1000"
            ]
          },
          "metadata": {}
        }
      ]
    },
    {
      "cell_type": "code",
      "source": [
        "X_train <- as.matrix(tf_idf_train)\n",
        "dim(X_train)"
      ],
      "metadata": {
        "colab": {
          "base_uri": "https://localhost:8080/",
          "height": 34
        },
        "outputId": "988263fd-d3d2-405d-92f1-80edade80db5",
        "id": "Q6j4U0tLxWjG"
      },
      "execution_count": 256,
      "outputs": [
        {
          "output_type": "display_data",
          "data": {
            "text/html": [
              "<style>\n",
              ".list-inline {list-style: none; margin:0; padding: 0}\n",
              ".list-inline>li {display: inline-block}\n",
              ".list-inline>li:not(:last-child)::after {content: \"\\00b7\"; padding: 0 .5ex}\n",
              "</style>\n",
              "<ol class=list-inline><li>9341</li><li>17020</li></ol>\n"
            ],
            "text/markdown": "1. 9341\n2. 17020\n\n\n",
            "text/latex": "\\begin{enumerate*}\n\\item 9341\n\\item 17020\n\\end{enumerate*}\n",
            "text/plain": [
              "[1]  9341 17020"
            ]
          },
          "metadata": {}
        }
      ]
    },
    {
      "cell_type": "code",
      "execution_count": 258,
      "metadata": {
        "vscode": {
          "languageId": "r"
        },
        "colab": {
          "base_uri": "https://localhost:8080/",
          "height": 34
        },
        "id": "TvxFy22AHpgi",
        "outputId": "28833455-f2ea-4217-b752-e2537e451afb"
      },
      "outputs": [
        {
          "output_type": "display_data",
          "data": {
            "text/html": [
              "518.944444444444"
            ],
            "text/markdown": "518.944444444444",
            "text/latex": "518.944444444444",
            "text/plain": [
              "[1] 518.9444"
            ]
          },
          "metadata": {}
        }
      ],
      "source": [
        "set.seed(3312)\n",
        "\n",
        "n_h = nrow(train_clean)/(3*(ncol(train_clean) + 3)) # formula anterior de la regla del pulgar\n",
        "n_h\n",
        "\n"
      ]
    },
    {
      "cell_type": "code",
      "source": [
        "##Crear modelo. Dar en orden las capas de quiero\n",
        "model1 <- keras_model_sequential() \n",
        "\n",
        "model1 %>% \n",
        "  layer_dense(units = 500, activation = 'relu', input_shape = ncol(X_train)) %>% # capa de entrada, con función de activación \n",
        "  layer_dense(units = 350, activation = 'relu') %>%\n",
        "  layer_dense(units = 10, activation = 'relu') %>%\n",
        "  layer_dropout(rate = 0.5) %>% # capa interna, aleatoraimente elimina algunas de los nodos en cada corrida para evitar overfitting. rate es el % de nodos que quiero se eliminen en cada corrida\n",
        "  layer_dense(units = 4, activation = 'softmax') # capa de salida\n",
        "summary(model1)\n",
        "\n",
        "  # units corresponde al valor de cateogrias que se quiere clasificar\n",
        "\n",
        "# Arquitectura del modelo\n",
        "model1 %>% compile(\n",
        "  optimizer = 'adam',\n",
        "  loss = 'categorical_crossentropy', # minimizar funcion de perdida\n",
        "  metrics = c('CategoricalAccuracy') \n",
        ")"
      ],
      "metadata": {
        "colab": {
          "base_uri": "https://localhost:8080/"
        },
        "id": "S2c1QyZdBJrN",
        "outputId": "76754b38-65b9-4e48-81a1-fa5833dba2f7"
      },
      "execution_count": 260,
      "outputs": [
        {
          "output_type": "stream",
          "name": "stdout",
          "text": [
            "Model: \"sequential_19\"\n",
            "________________________________________________________________________________\n",
            " Layer (type)                       Output Shape                    Param #     \n",
            "================================================================================\n",
            " dense_54 (Dense)                   (None, 500)                     8510500     \n",
            " dense_53 (Dense)                   (None, 350)                     175350      \n",
            " dense_52 (Dense)                   (None, 10)                      3510        \n",
            " dropout_19 (Dropout)               (None, 10)                      0           \n",
            " dense_51 (Dense)                   (None, 4)                       44          \n",
            "================================================================================\n",
            "Total params: 8,689,404\n",
            "Trainable params: 8,689,404\n",
            "Non-trainable params: 0\n",
            "________________________________________________________________________________\n"
          ]
        }
      ]
    },
    {
      "cell_type": "code",
      "source": [
        "history <- model1 %>% \n",
        "  fit(\n",
        "    X_train, Y_train, # entrenar el modelo\n",
        "    epochs = 300, # aprende 2 veces dentro de los baches de epoca\n",
        "    batch_size = 2^10, #tamaño de datos que quiero que aprende dentro del tamaño del bache\n",
        "    validation_split = 0.2 # set datos de entrenamiento para validar los parámetros\n",
        "  )\n",
        "\n",
        "#guarda lo que pasa en cada momento del tiempo"
      ],
      "metadata": {
        "id": "4vXQZAmXJszz"
      },
      "execution_count": 261,
      "outputs": []
    },
    {
      "cell_type": "code",
      "source": [
        "plot(history)"
      ],
      "metadata": {
        "colab": {
          "base_uri": "https://localhost:8080/",
          "height": 437
        },
        "id": "1j0YEJhaPZRJ",
        "outputId": "176fccdf-e2ff-4ec6-9766-80c0fa81dc5c"
      },
      "execution_count": 208,
      "outputs": [
        {
          "output_type": "display_data",
          "data": {
            "text/plain": [
              "plot without title"
            ],
            "image/png": "[encoded data removed]"
          },
          "metadata": {
            "image/png": {
              "width": 420,
              "height": 420
            }
          }
        }
      ]
    },
    {
      "cell_type": "code",
      "source": [
        "load(\"tf_idf_test.RData\")"
      ],
      "metadata": {
        "id": "y4_zsCvXm2BY"
      },
      "execution_count": 209,
      "outputs": []
    },
    {
      "cell_type": "code",
      "source": [
        "columnas <- colSums(tf_idf_test) %>%\n",
        "  data.frame() %>%\n",
        "  arrange(desc(.)) %>%\n",
        "  head(1000) %>% # Dejar las 1000 columnas de palabras más importantes\n",
        "  rownames()"
      ],
      "metadata": {
        "id": "yez6ilalmqEK"
      },
      "execution_count": 210,
      "outputs": []
    },
    {
      "cell_type": "code",
      "source": [
        "tf_idf_test_reducido <- tf_idf_test %>% \n",
        "  select(all_of(columnas))"
      ],
      "metadata": {
        "id": "PSsCQFBCm6uz"
      },
      "execution_count": 211,
      "outputs": []
    },
    {
      "cell_type": "code",
      "source": [
        "X_test <- as.matrix(tf_idf_test_reducido)\n",
        "dim(X_test)"
      ],
      "metadata": {
        "colab": {
          "base_uri": "https://localhost:8080/",
          "height": 34
        },
        "id": "dgt8YRmSm_s0",
        "outputId": "ca30e354-523a-4176-fbfa-941d73544a7d"
      },
      "execution_count": 212,
      "outputs": [
        {
          "output_type": "display_data",
          "data": {
            "text/html": [
              "<style>\n",
              ".list-inline {list-style: none; margin:0; padding: 0}\n",
              ".list-inline>li {display: inline-block}\n",
              ".list-inline>li:not(:last-child)::after {content: \"\\00b7\"; padding: 0 .5ex}\n",
              "</style>\n",
              "<ol class=list-inline><li>1499</li><li>1000</li></ol>\n"
            ],
            "text/markdown": "1. 1499\n2. 1000\n\n\n",
            "text/latex": "\\begin{enumerate*}\n\\item 1499\n\\item 1000\n\\end{enumerate*}\n",
            "text/plain": [
              "[1] 1499 1000"
            ]
          },
          "metadata": {}
        }
      ]
    },
    {
      "cell_type": "code",
      "source": [
        "y_hat <- model1 %>% predict(X_test) %>% k_argmax()\n",
        "head(y_hat)"
      ],
      "metadata": {
        "colab": {
          "base_uri": "https://localhost:8080/",
          "height": 34
        },
        "id": "1FmCklKnPo6w",
        "outputId": "1a5f95a4-0580-4a45-f416-26805b640b09"
      },
      "execution_count": 213,
      "outputs": [
        {
          "output_type": "display_data",
          "data": {
            "text/plain": [
              "tf.Tensor([3 3 2 3 3 1], shape=(6), dtype=int64)"
            ]
          },
          "metadata": {}
        }
      ]
    },
    {
      "cell_type": "code",
      "source": [
        "prediccion <- factor(as.numeric(y_hat), levels = 1:3)\n",
        "head(prediccion,100)"
      ],
      "metadata": {
        "colab": {
          "base_uri": "https://localhost:8080/",
          "height": 69
        },
        "id": "iBJt9fKspmBO",
        "outputId": "115e7960-89be-4b68-ac68-5b33bbcb17f1"
      },
      "execution_count": 216,
      "outputs": [
        {
          "output_type": "display_data",
          "data": {
            "text/html": [
              "<style>\n",
              ".list-inline {list-style: none; margin:0; padding: 0}\n",
              ".list-inline>li {display: inline-block}\n",
              ".list-inline>li:not(:last-child)::after {content: \"\\00b7\"; padding: 0 .5ex}\n",
              "</style>\n",
              "<ol class=list-inline><li>3</li><li>3</li><li>2</li><li>3</li><li>3</li><li>1</li><li>1</li><li>1</li><li>2</li><li>1</li><li>2</li><li>2</li><li>1</li><li>2</li><li>3</li><li>2</li><li>1</li><li>3</li><li>3</li><li>2</li><li>3</li><li>1</li><li>2</li><li>3</li><li>3</li><li>3</li><li>2</li><li>3</li><li>1</li><li>2</li><li>2</li><li>2</li><li>3</li><li>1</li><li>3</li><li>3</li><li>3</li><li>1</li><li>1</li><li>2</li><li>2</li><li>1</li><li>1</li><li>2</li><li>1</li><li>1</li><li>2</li><li>3</li><li>1</li><li>1</li><li>1</li><li>2</li><li>1</li><li>1</li><li>3</li><li>3</li><li>3</li><li>1</li><li>1</li><li>1</li><li>3</li><li>1</li><li>2</li><li>2</li><li>2</li><li>2</li><li>1</li><li>3</li><li>2</li><li>1</li><li>1</li><li>2</li><li>2</li><li>2</li><li>2</li><li>2</li><li>1</li><li>1</li><li>1</li><li>1</li><li>3</li><li>1</li><li>1</li><li>3</li><li>1</li><li>1</li><li>1</li><li>2</li><li>2</li><li>1</li><li>2</li><li>2</li><li>3</li><li>2</li><li>1</li><li>3</li><li>1</li><li>2</li><li>2</li><li>3</li></ol>\n",
              "\n",
              "<details>\n",
              "\t<summary style=display:list-item;cursor:pointer>\n",
              "\t\t<strong>Levels</strong>:\n",
              "\t</summary>\n",
              "\t<style>\n",
              "\t.list-inline {list-style: none; margin:0; padding: 0}\n",
              "\t.list-inline>li {display: inline-block}\n",
              "\t.list-inline>li:not(:last-child)::after {content: \"\\00b7\"; padding: 0 .5ex}\n",
              "\t</style>\n",
              "\t<ol class=list-inline><li>'1'</li><li>'2'</li><li>'3'</li></ol>\n",
              "</details>"
            ],
            "text/markdown": "1. 3\n2. 3\n3. 2\n4. 3\n5. 3\n6. 1\n7. 1\n8. 1\n9. 2\n10. 1\n11. 2\n12. 2\n13. 1\n14. 2\n15. 3\n16. 2\n17. 1\n18. 3\n19. 3\n20. 2\n21. 3\n22. 1\n23. 2\n24. 3\n25. 3\n26. 3\n27. 2\n28. 3\n29. 1\n30. 2\n31. 2\n32. 2\n33. 3\n34. 1\n35. 3\n36. 3\n37. 3\n38. 1\n39. 1\n40. 2\n41. 2\n42. 1\n43. 1\n44. 2\n45. 1\n46. 1\n47. 2\n48. 3\n49. 1\n50. 1\n51. 1\n52. 2\n53. 1\n54. 1\n55. 3\n56. 3\n57. 3\n58. 1\n59. 1\n60. 1\n61. 3\n62. 1\n63. 2\n64. 2\n65. 2\n66. 2\n67. 1\n68. 3\n69. 2\n70. 1\n71. 1\n72. 2\n73. 2\n74. 2\n75. 2\n76. 2\n77. 1\n78. 1\n79. 1\n80. 1\n81. 3\n82. 1\n83. 1\n84. 3\n85. 1\n86. 1\n87. 1\n88. 2\n89. 2\n90. 1\n91. 2\n92. 2\n93. 3\n94. 2\n95. 1\n96. 3\n97. 1\n98. 2\n99. 2\n100. 3\n\n\n\n**Levels**: 1. '1'\n2. '2'\n3. '3'\n\n\n",
            "text/latex": "\\begin{enumerate*}\n\\item 3\n\\item 3\n\\item 2\n\\item 3\n\\item 3\n\\item 1\n\\item 1\n\\item 1\n\\item 2\n\\item 1\n\\item 2\n\\item 2\n\\item 1\n\\item 2\n\\item 3\n\\item 2\n\\item 1\n\\item 3\n\\item 3\n\\item 2\n\\item 3\n\\item 1\n\\item 2\n\\item 3\n\\item 3\n\\item 3\n\\item 2\n\\item 3\n\\item 1\n\\item 2\n\\item 2\n\\item 2\n\\item 3\n\\item 1\n\\item 3\n\\item 3\n\\item 3\n\\item 1\n\\item 1\n\\item 2\n\\item 2\n\\item 1\n\\item 1\n\\item 2\n\\item 1\n\\item 1\n\\item 2\n\\item 3\n\\item 1\n\\item 1\n\\item 1\n\\item 2\n\\item 1\n\\item 1\n\\item 3\n\\item 3\n\\item 3\n\\item 1\n\\item 1\n\\item 1\n\\item 3\n\\item 1\n\\item 2\n\\item 2\n\\item 2\n\\item 2\n\\item 1\n\\item 3\n\\item 2\n\\item 1\n\\item 1\n\\item 2\n\\item 2\n\\item 2\n\\item 2\n\\item 2\n\\item 1\n\\item 1\n\\item 1\n\\item 1\n\\item 3\n\\item 1\n\\item 1\n\\item 3\n\\item 1\n\\item 1\n\\item 1\n\\item 2\n\\item 2\n\\item 1\n\\item 2\n\\item 2\n\\item 3\n\\item 2\n\\item 1\n\\item 3\n\\item 1\n\\item 2\n\\item 2\n\\item 3\n\\end{enumerate*}\n\n\\emph{Levels}: \\begin{enumerate*}\n\\item '1'\n\\item '2'\n\\item '3'\n\\end{enumerate*}\n",
            "text/plain": [
              "  [1] 3 3 2 3 3 1 1 1 2 1 2 2 1 2 3 2 1 3 3 2 3 1 2 3 3 3 2 3 1 2 2 2 3 1 3 3 3\n",
              " [38] 1 1 2 2 1 1 2 1 1 2 3 1 1 1 2 1 1 3 3 3 1 1 1 3 1 2 2 2 2 1 3 2 1 1 2 2 2\n",
              " [75] 2 2 1 1 1 1 3 1 1 3 1 1 1 2 2 1 2 2 3 2 1 3 1 2 2 3\n",
              "Levels: 1 2 3"
            ]
          },
          "metadata": {}
        }
      ]
    },
    {
      "cell_type": "code",
      "source": [
        "load(\"test_clean.RData\")"
      ],
      "metadata": {
        "id": "E0wxnYTypCYi"
      },
      "execution_count": 217,
      "outputs": []
    },
    {
      "cell_type": "code",
      "source": [
        "resultado <- data.frame(test_clean$id, prediccion)\n",
        "head(resultado)"
      ],
      "metadata": {
        "colab": {
          "base_uri": "https://localhost:8080/",
          "height": 286
        },
        "id": "3Qu2jv96os4U",
        "outputId": "e30693d3-6359-4dfe-d55e-b3cfe675dce7"
      },
      "execution_count": 220,
      "outputs": [
        {
          "output_type": "display_data",
          "data": {
            "text/html": [
              "<table class=\"dataframe\">\n",
              "<caption>A data.frame: 6 × 2</caption>\n",
              "<thead>\n",
              "\t<tr><th></th><th scope=col>test_clean.id</th><th scope=col>prediccion</th></tr>\n",
              "\t<tr><th></th><th scope=col>&lt;chr&gt;</th><th scope=col>&lt;fct&gt;</th></tr>\n",
              "</thead>\n",
              "<tbody>\n",
              "\t<tr><th scope=row>1</th><td>0004d31c290018d960ea1b61</td><td>3</td></tr>\n",
              "\t<tr><th scope=row>2</th><td>001387a7e556a17e9af9e684</td><td>3</td></tr>\n",
              "\t<tr><th scope=row>3</th><td>0017570ee84b80e1c3e10218</td><td>2</td></tr>\n",
              "\t<tr><th scope=row>4</th><td>0036f3d867393f8effa12b66</td><td>3</td></tr>\n",
              "\t<tr><th scope=row>5</th><td>004508bf8e624f9656fdf9ec</td><td>3</td></tr>\n",
              "\t<tr><th scope=row>6</th><td>0052da408e75b7813dbcc512</td><td>1</td></tr>\n",
              "</tbody>\n",
              "</table>\n"
            ],
            "text/markdown": "\nA data.frame: 6 × 2\n\n| <!--/--> | test_clean.id &lt;chr&gt; | prediccion &lt;fct&gt; |\n|---|---|---|\n| 1 | 0004d31c290018d960ea1b61 | 3 |\n| 2 | 001387a7e556a17e9af9e684 | 3 |\n| 3 | 0017570ee84b80e1c3e10218 | 2 |\n| 4 | 0036f3d867393f8effa12b66 | 3 |\n| 5 | 004508bf8e624f9656fdf9ec | 3 |\n| 6 | 0052da408e75b7813dbcc512 | 1 |\n\n",
            "text/latex": "A data.frame: 6 × 2\n\\begin{tabular}{r|ll}\n  & test\\_clean.id & prediccion\\\\\n  & <chr> & <fct>\\\\\n\\hline\n\t1 & 0004d31c290018d960ea1b61 & 3\\\\\n\t2 & 001387a7e556a17e9af9e684 & 3\\\\\n\t3 & 0017570ee84b80e1c3e10218 & 2\\\\\n\t4 & 0036f3d867393f8effa12b66 & 3\\\\\n\t5 & 004508bf8e624f9656fdf9ec & 3\\\\\n\t6 & 0052da408e75b7813dbcc512 & 1\\\\\n\\end{tabular}\n",
            "text/plain": [
              "  test_clean.id            prediccion\n",
              "1 0004d31c290018d960ea1b61 3         \n",
              "2 001387a7e556a17e9af9e684 3         \n",
              "3 0017570ee84b80e1c3e10218 2         \n",
              "4 0036f3d867393f8effa12b66 3         \n",
              "5 004508bf8e624f9656fdf9ec 3         \n",
              "6 0052da408e75b7813dbcc512 1         "
            ]
          },
          "metadata": {}
        }
      ]
    },
    {
      "cell_type": "code",
      "source": [
        "names(resultado)[1] <- \"id\"\n",
        "names(resultado)[2] <- \"name\"\n",
        "head(resultado)"
      ],
      "metadata": {
        "colab": {
          "base_uri": "https://localhost:8080/",
          "height": 286
        },
        "id": "uX0X8L-8uMxL",
        "outputId": "d12ea492-f6eb-461a-98a7-de50a4185548"
      },
      "execution_count": 222,
      "outputs": [
        {
          "output_type": "display_data",
          "data": {
            "text/html": [
              "<table class=\"dataframe\">\n",
              "<caption>A data.frame: 6 × 2</caption>\n",
              "<thead>\n",
              "\t<tr><th></th><th scope=col>id</th><th scope=col>name</th></tr>\n",
              "\t<tr><th></th><th scope=col>&lt;chr&gt;</th><th scope=col>&lt;fct&gt;</th></tr>\n",
              "</thead>\n",
              "<tbody>\n",
              "\t<tr><th scope=row>1</th><td>0004d31c290018d960ea1b61</td><td>3</td></tr>\n",
              "\t<tr><th scope=row>2</th><td>001387a7e556a17e9af9e684</td><td>3</td></tr>\n",
              "\t<tr><th scope=row>3</th><td>0017570ee84b80e1c3e10218</td><td>2</td></tr>\n",
              "\t<tr><th scope=row>4</th><td>0036f3d867393f8effa12b66</td><td>3</td></tr>\n",
              "\t<tr><th scope=row>5</th><td>004508bf8e624f9656fdf9ec</td><td>3</td></tr>\n",
              "\t<tr><th scope=row>6</th><td>0052da408e75b7813dbcc512</td><td>1</td></tr>\n",
              "</tbody>\n",
              "</table>\n"
            ],
            "text/markdown": "\nA data.frame: 6 × 2\n\n| <!--/--> | id &lt;chr&gt; | name &lt;fct&gt; |\n|---|---|---|\n| 1 | 0004d31c290018d960ea1b61 | 3 |\n| 2 | 001387a7e556a17e9af9e684 | 3 |\n| 3 | 0017570ee84b80e1c3e10218 | 2 |\n| 4 | 0036f3d867393f8effa12b66 | 3 |\n| 5 | 004508bf8e624f9656fdf9ec | 3 |\n| 6 | 0052da408e75b7813dbcc512 | 1 |\n\n",
            "text/latex": "A data.frame: 6 × 2\n\\begin{tabular}{r|ll}\n  & id & name\\\\\n  & <chr> & <fct>\\\\\n\\hline\n\t1 & 0004d31c290018d960ea1b61 & 3\\\\\n\t2 & 001387a7e556a17e9af9e684 & 3\\\\\n\t3 & 0017570ee84b80e1c3e10218 & 2\\\\\n\t4 & 0036f3d867393f8effa12b66 & 3\\\\\n\t5 & 004508bf8e624f9656fdf9ec & 3\\\\\n\t6 & 0052da408e75b7813dbcc512 & 1\\\\\n\\end{tabular}\n",
            "text/plain": [
              "  id                       name\n",
              "1 0004d31c290018d960ea1b61 3   \n",
              "2 001387a7e556a17e9af9e684 3   \n",
              "3 0017570ee84b80e1c3e10218 2   \n",
              "4 0036f3d867393f8effa12b66 3   \n",
              "5 004508bf8e624f9656fdf9ec 3   \n",
              "6 0052da408e75b7813dbcc512 1   "
            ]
          },
          "metadata": {}
        }
      ]
    },
    {
      "cell_type": "code",
      "source": [
        "resultado$name <- factor(resultado$name, levels = c(\"1\", \"2\", \"3\"), labels = c(\"Lopez\", \"Petro\", \"Uribe\"))\n",
        "head(resultado,10)"
      ],
      "metadata": {
        "colab": {
          "base_uri": "https://localhost:8080/",
          "height": 148
        },
        "id": "dn7XzfvHu5T-",
        "outputId": "ddbcf96f-17bc-4728-9ee8-7e7ccfd3d75f"
      },
      "execution_count": 263,
      "outputs": [
        {
          "output_type": "error",
          "ename": "ERROR",
          "evalue": "ignored",
          "traceback": [
            "Error in factor(resultado$name, levels = c(\"1\", \"2\", \"3\"), labels = c(\"Lopez\", : object 'resultado' not found\nTraceback:\n",
            "1. factor(resultado$name, levels = c(\"1\", \"2\", \"3\"), labels = c(\"Lopez\", \n .     \"Petro\", \"Uribe\"))"
          ]
        }
      ]
    },
    {
      "cell_type": "code",
      "source": [
        "# Neurona faltante\n",
        "test <- read.csv(\"test.csv\")\n",
        "tweet_faltante <- setdiff(test$id, resultado$id)\n",
        "tweet_faltante"
      ],
      "metadata": {
        "colab": {
          "base_uri": "https://localhost:8080/",
          "height": 34
        },
        "id": "5k2AwkYEvF3N",
        "outputId": "62fa78db-299a-40c8-f646-30210f85a0d7"
      },
      "execution_count": 227,
      "outputs": [
        {
          "output_type": "display_data",
          "data": {
            "text/html": [
              "'cb9ac947c675464803342fc9'"
            ],
            "text/markdown": "'cb9ac947c675464803342fc9'",
            "text/latex": "'cb9ac947c675464803342fc9'",
            "text/plain": [
              "[1] \"cb9ac947c675464803342fc9\""
            ]
          },
          "metadata": {}
        }
      ]
    },
    {
      "cell_type": "code",
      "source": [
        "y_hat_faltante <- data.frame(id = \"cb9ac947c675464803342fc9\", name = \"Lopez\")\n",
        "resultado <- rbind(resultado, y_hat_faltante)"
      ],
      "metadata": {
        "id": "UGuQaUXLviOL"
      },
      "execution_count": 228,
      "outputs": []
    },
    {
      "cell_type": "code",
      "source": [
        "write.csv(resultado, 'Red_Neuronal.csv',row.names=FALSE)"
      ],
      "metadata": {
        "id": "XdrjBLFTwYYG"
      },
      "execution_count": 229,
      "outputs": []
    }
  ],
  "metadata": {
    "anaconda-cloud": "",
    "kernelspec": {
      "display_name": "R",
      "langauge": "R",
      "name": "ir"
    },
    "language_info": {
      "codemirror_mode": "r",
      "file_extension": ".r",
      "mimetype": "text/x-r-source",
      "name": "R",
      "pygments_lexer": "r",
      "version": "3.4.1"
    },
    "colab": {
      "provenance": [],
      "include_colab_link": true
    }
  },
  "nbformat": 4,
  "nbformat_minor": 0
}