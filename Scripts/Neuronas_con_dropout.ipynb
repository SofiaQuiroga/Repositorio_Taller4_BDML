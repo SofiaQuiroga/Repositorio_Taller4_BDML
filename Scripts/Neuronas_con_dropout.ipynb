{
  "cells": [
    {
      "cell_type": "markdown",
      "metadata": {
        "id": "view-in-github",
        "colab_type": "text"
      },
      "source": [
        "<a href=\"https://colab.research.google.com/github/SofiaQuiroga/Repositorio_Taller4_BDML/blob/main/Neuronas_con_dropout.ipynb\" target=\"_parent\"><img src=\"https://colab.research.google.com/assets/colab-badge.svg\" alt=\"Open In Colab\"/></a>"
      ]
    },
    {
      "cell_type": "markdown",
      "metadata": {
        "id": "aJ8PSgJYHpgZ"
      },
      "source": [
        "<style type=\"text/css\">\n",
        "\n",
        ".responsive {\n",
        " width: 100%;\n",
        " height: 25%;\n",
        "}\n",
        "\n",
        ".list-group-item.active, .list-group-item.active:focus, .list-group-item.active:hover {\n",
        "    z-index: 2;\n",
        "    color: #fff;\n",
        "    background-color: #1B175E;\n",
        "    border-color: #337ab7;\n",
        "}\n",
        "h1, h2, h3, h4 {\n",
        "    color: #000002;\n",
        "    background-color: #1B175E;\n",
        "    background-image:\n",
        "      linear-gradient(to right,\n",
        "       #fff, #ffff00\n",
        "     );\n",
        "\n",
        "}\n",
        "\n",
        "h1, h2, h3, h4, p {\n",
        "    color: #000002;\n",
        "}\n",
        "\n",
        "a {\n",
        "    color: #1B175E;\n",
        "}\n",
        "</style>\n"
      ]
    },
    {
      "cell_type": "code",
      "execution_count": 1,
      "metadata": {
        "vscode": {
          "languageId": "r"
        },
        "id": "np_YHaypHpgb"
      },
      "outputs": [],
      "source": [
        "rm(list = ls())\n"
      ]
    },
    {
      "cell_type": "code",
      "execution_count": 2,
      "metadata": {
        "vscode": {
          "languageId": "r"
        },
        "colab": {
          "base_uri": "https://localhost:8080/"
        },
        "id": "wioluF_8Hpge",
        "outputId": "a93e07f9-a265-46ac-dbe7-e097958c502f"
      },
      "outputs": [
        {
          "output_type": "stream",
          "name": "stderr",
          "text": [
            "Installing package into ‘/usr/local/lib/R/site-library’\n",
            "(as ‘lib’ is unspecified)\n",
            "\n"
          ]
        }
      ],
      "source": [
        "install.packages('keras')\n",
        "library(keras)\n",
        "\n",
        "# Cargar pacman (contiene la funci?n p_load)\n",
        "#install.packages('pacman')\n",
        "#library(pacman) \n",
        "\n",
        "# Cargar las librer?as listadas e instalarlas en caso de ser necesario\n",
        "#p_load(tidyverse, janitor, tm, stringi, tidytext, stopwords, wordcloud2, udpipe,\n",
        "       #ggcorrplot, keras) "
      ]
    },
    {
      "cell_type": "markdown",
      "metadata": {
        "id": "vshI4VN1Hpgi"
      },
      "source": [
        "# Modelo\n",
        "Vamos a crear una red neuronal que solo tenga una hidden layer. Vamos a usar la siguiente regla del pulgar para escoger el número de neuronas:\n",
        "$$N_h=\\frac{N_s}{\\alpha\\cdot(N_i+N_o)}$$\n",
        "En donde:\n",
        "- $N_i:$ Es el número de las neuronas inputs (número de columnas).\n",
        "- $N_o:$ Número de neuronas en la capa de salida (número de categorías posibles).\n",
        "- $N_s:$ Número de observaciones.\n",
        "- $\\alpha:$ Factor arbitrario entre 2 y 10.\n"
      ]
    },
    {
      "cell_type": "code",
      "source": [
        "# Importamos tf_idf_test tf_idf_train\n",
        "load(\"tf_idf_test.rds\")\n",
        "load(\"tf_idf_train.rds\")\n",
        "load(\"train_clean.rds\")\n",
        "load(\"test_clean.rds\")"
      ],
      "metadata": {
        "id": "V7ydrAQPMKWq"
      },
      "execution_count": 3,
      "outputs": []
    },
    {
      "cell_type": "code",
      "source": [
        "sum(is.na(tf_idf_test$name))"
      ],
      "metadata": {
        "colab": {
          "base_uri": "https://localhost:8080/",
          "height": 34
        },
        "id": "SRaOVOVpL4do",
        "outputId": "9e1c91dd-ebd5-403a-93d5-5842ad0da655"
      },
      "execution_count": 6,
      "outputs": [
        {
          "output_type": "display_data",
          "data": {
            "text/html": [
              "0"
            ],
            "text/markdown": "0",
            "text/latex": "0",
            "text/plain": [
              "[1] 0"
            ]
          },
          "metadata": {}
        }
      ]
    },
    {
      "cell_type": "code",
      "source": [
        "table(train_clean$name)"
      ],
      "metadata": {
        "colab": {
          "base_uri": "https://localhost:8080/",
          "height": 69
        },
        "id": "AxlTm2ReL8Nw",
        "outputId": "b8f07e9b-a412-49c8-a846-aa32c136acc5"
      },
      "execution_count": 7,
      "outputs": [
        {
          "output_type": "display_data",
          "data": {
            "text/plain": [
              "\n",
              "   1    2    3 \n",
              "3468 2873 3000 "
            ]
          },
          "metadata": {}
        }
      ]
    },
    {
      "cell_type": "code",
      "source": [
        "train_Y <- factor(train_clean$name)\n",
        "train_Y <- model.matrix(~train_Y+0)\n",
        "head(train_Y)\n",
        "dim(train_Y)\n",
        "class(train_Y)\n",
        " "
      ],
      "metadata": {
        "colab": {
          "base_uri": "https://localhost:8080/",
          "height": 290
        },
        "id": "kUYebf2aUy-t",
        "outputId": "c22b830c-cb68-4c76-f39c-00693e2105d4"
      },
      "execution_count": 4,
      "outputs": [
        {
          "output_type": "display_data",
          "data": {
            "text/html": [
              "<table class=\"dataframe\">\n",
              "<caption>A matrix: 6 × 3 of type dbl</caption>\n",
              "<thead>\n",
              "\t<tr><th></th><th scope=col>train_Y1</th><th scope=col>train_Y2</th><th scope=col>train_Y3</th></tr>\n",
              "</thead>\n",
              "<tbody>\n",
              "\t<tr><th scope=row>1</th><td>1</td><td>0</td><td>0</td></tr>\n",
              "\t<tr><th scope=row>2</th><td>0</td><td>0</td><td>1</td></tr>\n",
              "\t<tr><th scope=row>3</th><td>1</td><td>0</td><td>0</td></tr>\n",
              "\t<tr><th scope=row>4</th><td>1</td><td>0</td><td>0</td></tr>\n",
              "\t<tr><th scope=row>5</th><td>0</td><td>0</td><td>1</td></tr>\n",
              "\t<tr><th scope=row>6</th><td>0</td><td>0</td><td>1</td></tr>\n",
              "</tbody>\n",
              "</table>\n"
            ],
            "text/markdown": "\nA matrix: 6 × 3 of type dbl\n\n| <!--/--> | train_Y1 | train_Y2 | train_Y3 |\n|---|---|---|---|\n| 1 | 1 | 0 | 0 |\n| 2 | 0 | 0 | 1 |\n| 3 | 1 | 0 | 0 |\n| 4 | 1 | 0 | 0 |\n| 5 | 0 | 0 | 1 |\n| 6 | 0 | 0 | 1 |\n\n",
            "text/latex": "A matrix: 6 × 3 of type dbl\n\\begin{tabular}{r|lll}\n  & train\\_Y1 & train\\_Y2 & train\\_Y3\\\\\n\\hline\n\t1 & 1 & 0 & 0\\\\\n\t2 & 0 & 0 & 1\\\\\n\t3 & 1 & 0 & 0\\\\\n\t4 & 1 & 0 & 0\\\\\n\t5 & 0 & 0 & 1\\\\\n\t6 & 0 & 0 & 1\\\\\n\\end{tabular}\n",
            "text/plain": [
              "  train_Y1 train_Y2 train_Y3\n",
              "1 1        0        0       \n",
              "2 0        0        1       \n",
              "3 1        0        0       \n",
              "4 1        0        0       \n",
              "5 0        0        1       \n",
              "6 0        0        1       "
            ]
          },
          "metadata": {}
        },
        {
          "output_type": "display_data",
          "data": {
            "text/html": [
              "<style>\n",
              ".list-inline {list-style: none; margin:0; padding: 0}\n",
              ".list-inline>li {display: inline-block}\n",
              ".list-inline>li:not(:last-child)::after {content: \"\\00b7\"; padding: 0 .5ex}\n",
              "</style>\n",
              "<ol class=list-inline><li>9341</li><li>3</li></ol>\n"
            ],
            "text/markdown": "1. 9341\n2. 3\n\n\n",
            "text/latex": "\\begin{enumerate*}\n\\item 9341\n\\item 3\n\\end{enumerate*}\n",
            "text/plain": [
              "[1] 9341    3"
            ]
          },
          "metadata": {}
        },
        {
          "output_type": "display_data",
          "data": {
            "text/html": [
              "<style>\n",
              ".list-inline {list-style: none; margin:0; padding: 0}\n",
              ".list-inline>li {display: inline-block}\n",
              ".list-inline>li:not(:last-child)::after {content: \"\\00b7\"; padding: 0 .5ex}\n",
              "</style>\n",
              "<ol class=list-inline><li>'matrix'</li><li>'array'</li></ol>\n"
            ],
            "text/markdown": "1. 'matrix'\n2. 'array'\n\n\n",
            "text/latex": "\\begin{enumerate*}\n\\item 'matrix'\n\\item 'array'\n\\end{enumerate*}\n",
            "text/plain": [
              "[1] \"matrix\" \"array\" "
            ]
          },
          "metadata": {}
        }
      ]
    },
    {
      "cell_type": "code",
      "source": [
        "train_X <- as.matrix(tf_idf_train)\n",
        "dim(train_X)"
      ],
      "metadata": {
        "id": "CxUZFgqAJUsb",
        "colab": {
          "base_uri": "https://localhost:8080/",
          "height": 34
        },
        "outputId": "906a69eb-d893-4056-8b97-54840cdec05f"
      },
      "execution_count": 5,
      "outputs": [
        {
          "output_type": "display_data",
          "data": {
            "text/html": [
              "<style>\n",
              ".list-inline {list-style: none; margin:0; padding: 0}\n",
              ".list-inline>li {display: inline-block}\n",
              ".list-inline>li:not(:last-child)::after {content: \"\\00b7\"; padding: 0 .5ex}\n",
              "</style>\n",
              "<ol class=list-inline><li>9341</li><li>17020</li></ol>\n"
            ],
            "text/markdown": "1. 9341\n2. 17020\n\n\n",
            "text/latex": "\\begin{enumerate*}\n\\item 9341\n\\item 17020\n\\end{enumerate*}\n",
            "text/plain": [
              "[1]  9341 17020"
            ]
          },
          "metadata": {}
        }
      ]
    },
    {
      "cell_type": "code",
      "source": [
        "test_X <- as.matrix(tf_idf_test)\n",
        "dim(test_X)"
      ],
      "metadata": {
        "colab": {
          "base_uri": "https://localhost:8080/",
          "height": 34
        },
        "id": "1nkdmCgKAM-2",
        "outputId": "a77871f6-9e30-4069-9334-99ffb0842d10"
      },
      "execution_count": 8,
      "outputs": [
        {
          "output_type": "display_data",
          "data": {
            "text/html": [
              "<style>\n",
              ".list-inline {list-style: none; margin:0; padding: 0}\n",
              ".list-inline>li {display: inline-block}\n",
              ".list-inline>li:not(:last-child)::after {content: \"\\00b7\"; padding: 0 .5ex}\n",
              "</style>\n",
              "<ol class=list-inline><li>1499</li><li>6638</li></ol>\n"
            ],
            "text/markdown": "1. 1499\n2. 6638\n\n\n",
            "text/latex": "\\begin{enumerate*}\n\\item 1499\n\\item 6638\n\\end{enumerate*}\n",
            "text/plain": [
              "[1] 1499 6638"
            ]
          },
          "metadata": {}
        }
      ]
    },
    {
      "cell_type": "code",
      "source": [
        "test_Y <- factor(train_clean$name)\n",
        "test_Y <- model.matrix(~test_Y+0)\n",
        "dim(test_Y)"
      ],
      "metadata": {
        "colab": {
          "base_uri": "https://localhost:8080/",
          "height": 34
        },
        "id": "pxFwjSXRAZT9",
        "outputId": "f3ca3dd3-b60f-4da9-bfa8-da51ace92962"
      },
      "execution_count": 9,
      "outputs": [
        {
          "output_type": "display_data",
          "data": {
            "text/html": [
              "<style>\n",
              ".list-inline {list-style: none; margin:0; padding: 0}\n",
              ".list-inline>li {display: inline-block}\n",
              ".list-inline>li:not(:last-child)::after {content: \"\\00b7\"; padding: 0 .5ex}\n",
              "</style>\n",
              "<ol class=list-inline><li>9341</li><li>3</li></ol>\n"
            ],
            "text/markdown": "1. 9341\n2. 3\n\n\n",
            "text/latex": "\\begin{enumerate*}\n\\item 9341\n\\item 3\n\\end{enumerate*}\n",
            "text/plain": [
              "[1] 9341    3"
            ]
          },
          "metadata": {}
        }
      ]
    },
    {
      "cell_type": "code",
      "source": [],
      "metadata": {
        "id": "xb7Zv7HpXgsv"
      },
      "execution_count": null,
      "outputs": []
    },
    {
      "cell_type": "code",
      "execution_count": 10,
      "metadata": {
        "vscode": {
          "languageId": "r"
        },
        "id": "TvxFy22AHpgi"
      },
      "outputs": [],
      "source": [
        "model <- keras_model_sequential() \n",
        "model %>% \n",
        "  layer_dense(units = 3, activation = 'relu', input_shape = c(17020)) %>% \n",
        "  layer_dense(units = 3, activation = 'softmax')"
      ]
    },
    {
      "cell_type": "code",
      "source": [
        "summary(model)"
      ],
      "metadata": {
        "colab": {
          "base_uri": "https://localhost:8080/"
        },
        "id": "dFY4nwepk-0o",
        "outputId": "77f38dce-306b-4fa4-ced0-6286573e1ada"
      },
      "execution_count": 11,
      "outputs": [
        {
          "output_type": "stream",
          "name": "stdout",
          "text": [
            "Model: \"sequential\"\n",
            "________________________________________________________________________________\n",
            " Layer (type)                       Output Shape                    Param #     \n",
            "================================================================================\n",
            " dense_1 (Dense)                    (None, 3)                       51063       \n",
            " dense (Dense)                      (None, 3)                       12          \n",
            "================================================================================\n",
            "Total params: 51,075\n",
            "Trainable params: 51,075\n",
            "Non-trainable params: 0\n",
            "________________________________________________________________________________\n"
          ]
        }
      ]
    },
    {
      "cell_type": "code",
      "source": [
        "\n",
        "model2 <- keras_model_sequential() \n",
        "\n",
        "model2 %>%\n",
        "layer_dense(units = 500, activation = 'relu', input_shape = c(17020)) %>% \n",
        "layer_dense(units = 50, activation = 'relu') %>%\n",
        "layer_dense(units = 3, activation = 'softmax')"
      ],
      "metadata": {
        "id": "bR9eBtyRkWB8"
      },
      "execution_count": 38,
      "outputs": []
    },
    {
      "cell_type": "code",
      "source": [
        "summary(model2)"
      ],
      "metadata": {
        "colab": {
          "base_uri": "https://localhost:8080/"
        },
        "id": "b7tiuu8ck8Un",
        "outputId": "87c6173c-3691-417c-f12b-5223cca38641"
      },
      "execution_count": 39,
      "outputs": [
        {
          "output_type": "stream",
          "name": "stdout",
          "text": [
            "Model: \"sequential_10\"\n",
            "________________________________________________________________________________\n",
            " Layer (type)                       Output Shape                    Param #     \n",
            "================================================================================\n",
            " dense_29 (Dense)                   (None, 500)                     8510500     \n",
            " dense_28 (Dense)                   (None, 50)                      25050       \n",
            " dense_27 (Dense)                   (None, 3)                       153         \n",
            "================================================================================\n",
            "Total params: 8,535,703\n",
            "Trainable params: 8,535,703\n",
            "Non-trainable params: 0\n",
            "________________________________________________________________________________\n"
          ]
        }
      ]
    },
    {
      "cell_type": "code",
      "source": [
        "model2 %>% compile(\n",
        "  optimizer = 'adam',\n",
        "  loss = 'categorical_crossentropy',\n",
        "  metrics = c('accuracy')\n",
        ")"
      ],
      "metadata": {
        "id": "x2oS_hFckgo8"
      },
      "execution_count": 40,
      "outputs": []
    },
    {
      "cell_type": "code",
      "source": [
        "summary(model)"
      ],
      "metadata": {
        "colab": {
          "base_uri": "https://localhost:8080/"
        },
        "id": "GyvJabyiYiyL",
        "outputId": "80f1fc61-42f4-44f1-a8a4-c55b4c053a8f"
      },
      "execution_count": 41,
      "outputs": [
        {
          "output_type": "stream",
          "name": "stdout",
          "text": [
            "Model: \"sequential\"\n",
            "________________________________________________________________________________\n",
            " Layer (type)                       Output Shape                    Param #     \n",
            "================================================================================\n",
            " dense_1 (Dense)                    (None, 3)                       51063       \n",
            " dense (Dense)                      (None, 3)                       12          \n",
            "================================================================================\n",
            "Total params: 51,075\n",
            "Trainable params: 51,075\n",
            "Non-trainable params: 0\n",
            "________________________________________________________________________________\n"
          ]
        }
      ]
    },
    {
      "cell_type": "code",
      "source": [
        "history2 <- model2 %>% fit(\n",
        "  train_X, train_Y, \n",
        "  epochs =30 , \n",
        "  batch_size = 2^8,\n",
        "  validation_split = 0.2\n",
        ")"
      ],
      "metadata": {
        "id": "uLeFP5LUYwpv"
      },
      "execution_count": 45,
      "outputs": []
    },
    {
      "cell_type": "code",
      "source": [
        "plot(history2)"
      ],
      "metadata": {
        "colab": {
          "base_uri": "https://localhost:8080/",
          "height": 437
        },
        "id": "GVgE1N4FYrGU",
        "outputId": "d57ecec4-1074-44cf-f6bb-251fa5ed2f35"
      },
      "execution_count": 44,
      "outputs": [
        {
          "output_type": "display_data",
          "data": {
            "text/plain": [
              "plot without title"
            ],
            "image/png": "[encoded data removed]"
          },
          "metadata": {
            "image/png": {
              "width": 420,
              "height": 420
            }
          }
        }
      ]
    },
    {
      "cell_type": "code",
      "source": [
        "model2 %>% evaluate(test_X, test_Y)"
      ],
      "metadata": {
        "colab": {
          "base_uri": "https://localhost:8080/",
          "height": 322
        },
        "id": "dPMBRDFy_cVU",
        "outputId": "e44a7081-7135-4bc0-e7b2-e128dcbb69d0"
      },
      "execution_count": 33,
      "outputs": [
        {
          "output_type": "error",
          "ename": "ERROR",
          "evalue": "ignored",
          "traceback": [
            "Error in eval(expr, envir, enclos): AttributeError: 'list' object has no attribute 'dtype'\n\nTraceback:\n",
            "1. model2 %>% evaluate(test_X, test_Y)",
            "2. evaluate(., test_X, test_Y)",
            "3. evaluate.keras.engine.training.Model(., test_X, test_Y)",
            "4. append(args, resolve_input_data(x, y))",
            "5. resolve_input_data(x, y)",
            "6. keras_array(y)",
            "7. x$dtype",
            "8. `$.python.builtin.object`(x, \"dtype\")",
            "9. py_get_attr_or_item(x, name, TRUE)",
            "10. py_get_attr(x, name)",
            "11. py_get_attr_impl(x, name, silent)"
          ]
        }
      ]
    },
    {
      "cell_type": "markdown",
      "source": [
        "NUEVO INTENTO CON DROPOUT"
      ],
      "metadata": {
        "id": "ahac8IsKCrh4"
      }
    },
    {
      "cell_type": "code",
      "source": [
        "\n"
      ],
      "metadata": {
        "colab": {
          "base_uri": "https://localhost:8080/"
        },
        "id": "4HpCvyF0XjOr",
        "outputId": "60a14bc9-0562-4c94-df39-6b8eb2245a99"
      },
      "execution_count": 36,
      "outputs": [
        {
          "output_type": "stream",
          "name": "stdout",
          "text": [
            "Model: \"sequential\"\n",
            "________________________________________________________________________________\n",
            " Layer (type)                       Output Shape                    Param #     \n",
            "================================================================================\n",
            " dense_1 (Dense)                    (None, 3)                       51063       \n",
            " dense (Dense)                      (None, 3)                       12          \n",
            "================================================================================\n",
            "Total params: 51,075\n",
            "Trainable params: 51,075\n",
            "Non-trainable params: 0\n",
            "________________________________________________________________________________\n"
          ]
        }
      ]
    },
    {
      "cell_type": "code",
      "source": [
        "model33 <- keras_model_sequential() \n",
        "\n",
        "model33 %>%\n",
        "layer_dense(units = 10, activation = 'relu', input_shape = ncol(train_X)) %>% \n",
        "layer_dropout(rate = 0.3) %>%\n",
        "layer_dense(units = 7, activation = 'relu') %>%\n",
        "layer_dropout(rate = 0.2) %>%\n",
        "layer_dense(units = 3, activation = 'softmax')\n",
        "summary(model33)"
      ],
      "metadata": {
        "colab": {
          "base_uri": "https://localhost:8080/"
        },
        "id": "OkdwwY0JMbFp",
        "outputId": "52f97a94-04cd-4f85-ca69-d1e243e7c500"
      },
      "execution_count": 10,
      "outputs": [
        {
          "output_type": "stream",
          "name": "stdout",
          "text": [
            "Model: \"sequential\"\n",
            "________________________________________________________________________________\n",
            " Layer (type)                       Output Shape                    Param #     \n",
            "================================================================================\n",
            " dense_2 (Dense)                    (None, 10)                      170210      \n",
            " dropout_1 (Dropout)                (None, 10)                      0           \n",
            " dense_1 (Dense)                    (None, 7)                       77          \n",
            " dropout (Dropout)                  (None, 7)                       0           \n",
            " dense (Dense)                      (None, 3)                       24          \n",
            "================================================================================\n",
            "Total params: 170,311\n",
            "Trainable params: 170,311\n",
            "Non-trainable params: 0\n",
            "________________________________________________________________________________\n"
          ]
        }
      ]
    },
    {
      "cell_type": "code",
      "source": [
        "model33 %>% compile(\n",
        "  optimizer = 'adam',\n",
        "  loss = 'categorical_crossentropy',\n",
        "  metrics = c('accuracy')\n",
        ")"
      ],
      "metadata": {
        "id": "yLJmnvX0DLA1"
      },
      "execution_count": 11,
      "outputs": []
    },
    {
      "cell_type": "code",
      "source": [
        "history3 <- model33 %>% fit(\n",
        "  train_X, train_Y, \n",
        "  epochs = 20, \n",
        "  batch_size = 128,\n",
        "  validation_split = 0.2\n",
        ")"
      ],
      "metadata": {
        "id": "4vXQZAmXJszz"
      },
      "execution_count": 12,
      "outputs": []
    },
    {
      "cell_type": "code",
      "source": [
        "plot(history3)"
      ],
      "metadata": {
        "colab": {
          "base_uri": "https://localhost:8080/",
          "height": 437
        },
        "id": "x9SRdOu_Orgy",
        "outputId": "23c1171d-896e-4dc6-8362-6c6b0459bd31"
      },
      "execution_count": 80,
      "outputs": [
        {
          "output_type": "display_data",
          "data": {
            "text/plain": [
              "plot without title"
            ],
            "image/png": "[encoded data removed]"
          },
          "metadata": {
            "image/png": {
              "width": 420,
              "height": 420
            }
          }
        }
      ]
    },
    {
      "cell_type": "code",
      "source": [
        "y_hat <- model33 %>% predict(test_X) %>% k_argmax()\n"
      ],
      "metadata": {
        "colab": {
          "base_uri": "https://localhost:8080/",
          "height": 722
        },
        "id": "1j0YEJhaPZRJ",
        "outputId": "913cfdd0-b60c-43c5-b3d2-499075a31737"
      },
      "execution_count": 83,
      "outputs": [
        {
          "output_type": "error",
          "ename": "ERROR",
          "evalue": "ignored",
          "traceback": [
            "Error in eval(expr, envir, enclos): ValueError: in user code:\n<... omitted ...>/lib/python3.9/dist-packages/keras/engine/training.py\", line 2123, in step_function  **\n        outputs = model.distribute_strategy.run(run_step, args=(data,))\n    File \"/usr/local/lib/python3.9/dist-packages/keras/engine/training.py\", line 2111, in run_step  **\n        outputs = model.predict_step(data)\n    File \"/usr/local/lib/python3.9/dist-packages/keras/engine/training.py\", line 2079, in predict_step\n        return self(x, training=False)\n    File \"/usr/local/lib/python3.9/dist-packages/keras/utils/traceback_utils.py\", line 70, in error_handler\n        raise e.with_traceback(filtered_tb) from None\n    File \"/usr/local/lib/python3.9/dist-packages/keras/engine/input_spec.py\", line 295, in assert_input_compatibility\n        raise ValueError(\n\n    ValueError: Input 0 of layer \"sequential_14\" is incompatible with the layer: expected shape=(None, 17020), found shape=(None, 6638)\n\nSee `reticulate::py_last_error()` for details\nTraceback:\n",
            "1. model33 %>% predict(test_X) %>% k_argmax()",
            "2. k_argmax(.)",
            "3. keras$backend$argmax(x = x, axis = as_axis(axis))",
            "4. py_resolve_dots(list(...))",
            "5. predict(., test_X)",
            "6. predict.keras.engine.training.Model(., test_X)",
            "7. do.call(object$predict, args)",
            "8. (structure(function (...) \n . {\n .     dots <- py_resolve_dots(list(...))\n .     result <- py_call_impl(callable, dots$args, dots$keywords)\n .     if (convert) \n .         result <- py_to_r(result)\n .     if (is.null(result)) \n .         invisible(result)\n .     else result\n . }, class = c(\"python.builtin.method\", \"python.builtin.object\"\n . ), py_object = <environment>))(batch_size = 32L, verbose = \"auto\", \n .     x = <environment>, callbacks = list())",
            "9. py_call_impl(callable, dots$args, dots$keywords)"
          ]
        }
      ]
    },
    {
      "cell_type": "markdown",
      "source": [
        "¿Que significa que la muestra de validación sea más alta que la de entrenamiento?"
      ],
      "metadata": {
        "id": "HJDLBAwsPnwK"
      }
    },
    {
      "cell_type": "code",
      "source": [
        "model %>% evaluate(X_test, y_test)"
      ],
      "metadata": {
        "colab": {
          "base_uri": "https://localhost:8080/",
          "height": 34
        },
        "id": "1FmCklKnPo6w",
        "outputId": "e1355c55-d94c-40d3-a4aa-228002ba8d5f"
      },
      "execution_count": null,
      "outputs": [
        {
          "output_type": "display_data",
          "data": {
            "text/html": [
              "<style>\n",
              ".dl-inline {width: auto; margin:0; padding: 0}\n",
              ".dl-inline>dt, .dl-inline>dd {float: none; width: auto; display: inline-block}\n",
              ".dl-inline>dt::after {content: \":\\0020\"; padding-right: .5ex}\n",
              ".dl-inline>dt:not(:first-of-type) {padding-left: .5ex}\n",
              "</style><dl class=dl-inline><dt>loss</dt><dd>1.75298058986664</dd><dt>categorical_accuracy</dt><dd>0.682692289352417</dd></dl>\n"
            ],
            "text/markdown": "loss\n:   1.75298058986664categorical_accuracy\n:   0.682692289352417\n\n",
            "text/latex": "\\begin{description*}\n\\item[loss] 1.75298058986664\n\\item[categorical\\textbackslash{}\\_accuracy] 0.682692289352417\n\\end{description*}\n",
            "text/plain": [
              "                loss categorical_accuracy \n",
              "           1.7529806            0.6826923 "
            ]
          },
          "metadata": {}
        }
      ]
    },
    {
      "cell_type": "code",
      "source": [
        "y_hat <- model  %>% predict(X_test) %>% k_argmax()"
      ],
      "metadata": {
        "id": "4jCNWc7cQLpX"
      },
      "execution_count": null,
      "outputs": []
    },
    {
      "cell_type": "code",
      "source": [
        "install.packages(\"caret\")\n",
        "library(caret)"
      ],
      "metadata": {
        "colab": {
          "base_uri": "https://localhost:8080/"
        },
        "id": "bawQqsCOQQtv",
        "outputId": "f6158071-6e8e-4f1e-d73b-79286412ba28"
      },
      "execution_count": null,
      "outputs": [
        {
          "output_type": "stream",
          "name": "stderr",
          "text": [
            "Installing package into ‘/usr/local/lib/R/site-library’\n",
            "(as ‘lib’ is unspecified)\n",
            "\n",
            "also installing the dependencies ‘listenv’, ‘parallelly’, ‘future’, ‘globals’, ‘future.apply’, ‘numDeriv’, ‘progressr’, ‘SQUAREM’, ‘lava’, ‘prodlim’, ‘proxy’, ‘iterators’, ‘clock’, ‘gower’, ‘hardhat’, ‘ipred’, ‘timeDate’, ‘e1071’, ‘foreach’, ‘ModelMetrics’, ‘plyr’, ‘pROC’, ‘recipes’, ‘reshape2’\n",
            "\n",
            "\n",
            "Loading required package: lattice\n",
            "\n",
            "\n",
            "Attaching package: ‘caret’\n",
            "\n",
            "\n",
            "The following object is masked from ‘package:purrr’:\n",
            "\n",
            "    lift\n",
            "\n",
            "\n"
          ]
        }
      ]
    },
    {
      "cell_type": "code",
      "source": [
        "confusionMatrix(data = factor(as.numeric(y_hat), levels = 1:5), \n",
        "  reference = factor(data_clean$calificacion[-train_indices], levels = 1:5))"
      ],
      "metadata": {
        "colab": {
          "base_uri": "https://localhost:8080/",
          "height": 573
        },
        "id": "sI7FN6smUSvH",
        "outputId": "36e1c01f-d781-495c-956e-a46827510a41"
      },
      "execution_count": null,
      "outputs": [
        {
          "output_type": "display_data",
          "data": {
            "text/plain": [
              "Confusion Matrix and Statistics\n",
              "\n",
              "          Reference\n",
              "Prediction   1   2   3   4   5\n",
              "         1   1   0   0   0   4\n",
              "         2   0   0   0   0   0\n",
              "         3   0   0   0   0   0\n",
              "         4   0   0   0   0   0\n",
              "         5  18  17  21  39 212\n",
              "\n",
              "Overall Statistics\n",
              "                                         \n",
              "               Accuracy : 0.6827         \n",
              "                 95% CI : (0.6279, 0.734)\n",
              "    No Information Rate : 0.6923         \n",
              "    P-Value [Acc > NIR] : 0.6685         \n",
              "                                         \n",
              "                  Kappa : 0.0016         \n",
              "                                         \n",
              " Mcnemar's Test P-Value : NA             \n",
              "\n",
              "Statistics by Class:\n",
              "\n",
              "                     Class: 1 Class: 2 Class: 3 Class: 4 Class: 5\n",
              "Sensitivity          0.052632  0.00000  0.00000    0.000  0.98148\n",
              "Specificity          0.986348  1.00000  1.00000    1.000  0.01042\n",
              "Pos Pred Value       0.200000      NaN      NaN      NaN  0.69055\n",
              "Neg Pred Value       0.941368  0.94551  0.93269    0.875  0.20000\n",
              "Prevalence           0.060897  0.05449  0.06731    0.125  0.69231\n",
              "Detection Rate       0.003205  0.00000  0.00000    0.000  0.67949\n",
              "Detection Prevalence 0.016026  0.00000  0.00000    0.000  0.98397\n",
              "Balanced Accuracy    0.519490  0.50000  0.50000    0.500  0.49595"
            ]
          },
          "metadata": {}
        }
      ]
    },
    {
      "cell_type": "code",
      "source": [
        "# Sensitivity = Recall\n",
        "# Specificity = TNR"
      ],
      "metadata": {
        "colab": {
          "base_uri": "https://localhost:8080/",
          "height": 34
        },
        "id": "9prtX7W1U71k",
        "outputId": "704110c8-9d82-4b1f-dba1-b21f4f346634"
      },
      "execution_count": null,
      "outputs": [
        {
          "output_type": "display_data",
          "data": {
            "text/html": [
              "0.25"
            ],
            "text/markdown": "0.25",
            "text/latex": "0.25",
            "text/plain": [
              "[1] 0.25"
            ]
          },
          "metadata": {}
        }
      ]
    },
    {
      "cell_type": "markdown",
      "source": [
        "LASSO"
      ],
      "metadata": {
        "id": "08VtYCA_S5cb"
      }
    },
    {
      "cell_type": "code",
      "source": [
        "install.packages(\"glmnet\")\n",
        "library(glmnet)\n",
        "\n",
        "\n"
      ],
      "metadata": {
        "colab": {
          "base_uri": "https://localhost:8080/"
        },
        "id": "goKe7A-bS41t",
        "outputId": "b95a6071-117c-45dd-c737-d00910225663"
      },
      "execution_count": 60,
      "outputs": [
        {
          "output_type": "stream",
          "name": "stderr",
          "text": [
            "Installing package into ‘/usr/local/lib/R/site-library’\n",
            "(as ‘lib’ is unspecified)\n",
            "\n",
            "also installing the dependencies ‘iterators’, ‘foreach’, ‘shape’, ‘RcppEigen’\n",
            "\n",
            "\n",
            "Loading required package: Matrix\n",
            "\n",
            "Loaded glmnet 4.1-6\n",
            "\n"
          ]
        }
      ]
    },
    {
      "cell_type": "code",
      "source": [
        "x <- scale(model.matrix(Salary ~ . - 1, data = tf_idf_train))\n",
        "y <- Gitters$Salary\n",
        "cvfit <- cv.glmnet(x[-testid, ], y[-testid],\n",
        "                   type.measure = \"mae\")\n",
        "cpred <- predict(cvfit, x[testid, ], s = \"lambda.min\")\n",
        "\n",
        "# MAE\n",
        "mean(abs(y[testid] - cpred))"
      ],
      "metadata": {
        "id": "PORYVoVmS8q5"
      },
      "execution_count": null,
      "outputs": []
    }
  ],
  "metadata": {
    "anaconda-cloud": "",
    "kernelspec": {
      "display_name": "R",
      "langauge": "R",
      "name": "ir"
    },
    "language_info": {
      "codemirror_mode": "r",
      "file_extension": ".r",
      "mimetype": "text/x-r-source",
      "name": "R",
      "pygments_lexer": "r",
      "version": "3.4.1"
    },
    "colab": {
      "provenance": [],
      "include_colab_link": true
    }
  },
  "nbformat": 4,
  "nbformat_minor": 0
}