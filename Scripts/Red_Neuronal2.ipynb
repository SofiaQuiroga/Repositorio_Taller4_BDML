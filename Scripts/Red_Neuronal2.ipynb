{
  "cells": [
    {
      "cell_type": "markdown",
      "metadata": {
        "id": "view-in-github",
        "colab_type": "text"
      },
      "source": [
        "<a href=\"https://colab.research.google.com/github/SofiaQuiroga/Repositorio_Taller4_BDML/blob/main/Scripts/Taller4_Red_Neuronal2.ipynb\" target=\"_parent\"><img src=\"https://colab.research.google.com/assets/colab-badge.svg\" alt=\"Open In Colab\"/></a>"
      ]
    },
    {
      "cell_type": "markdown",
      "metadata": {
        "id": "aJ8PSgJYHpgZ"
      },
      "source": [
        "<style type=\"text/css\">\n",
        "\n",
        ".responsive {\n",
        " width: 100%;\n",
        " height: 25%;\n",
        "}\n",
        "\n",
        ".list-group-item.active, .list-group-item.active:focus, .list-group-item.active:hover {\n",
        "    z-index: 2;\n",
        "    color: #fff;\n",
        "    background-color: #1B175E;\n",
        "    border-color: #337ab7;\n",
        "}\n",
        "h1, h2, h3, h4 {\n",
        "    color: #000002;\n",
        "    background-color: #1B175E;\n",
        "    background-image:\n",
        "      linear-gradient(to right,\n",
        "       #fff, #ffff00\n",
        "     );\n",
        "\n",
        "}\n",
        "\n",
        "h1, h2, h3, h4, p {\n",
        "    color: #000002;\n",
        "}\n",
        "\n",
        "a {\n",
        "    color: #1B175E;\n",
        "}\n",
        "</style>\n"
      ]
    },
    {
      "cell_type": "code",
      "execution_count": 1,
      "metadata": {
        "vscode": {
          "languageId": "r"
        },
        "id": "np_YHaypHpgb"
      },
      "outputs": [],
      "source": [
        "rm(list = ls())\n"
      ]
    },
    {
      "cell_type": "code",
      "execution_count": 2,
      "metadata": {
        "vscode": {
          "languageId": "r"
        },
        "colab": {
          "base_uri": "https://localhost:8080/"
        },
        "id": "wioluF_8Hpge",
        "outputId": "42e82a92-bfe3-493b-ea80-7a557e7349d4"
      },
      "outputs": [
        {
          "output_type": "stream",
          "name": "stderr",
          "text": [
            "Installing package into ‘/usr/local/lib/R/site-library’\n",
            "(as ‘lib’ is unspecified)\n",
            "\n",
            "also installing the dependencies ‘Rcpp’, ‘RcppTOML’, ‘here’, ‘png’, ‘config’, ‘tfautograph’, ‘reticulate’, ‘tensorflow’, ‘tfruns’, ‘zeallot’\n",
            "\n",
            "\n"
          ]
        }
      ],
      "source": [
        "install.packages('keras')\n",
        "library(keras)"
      ]
    },
    {
      "cell_type": "markdown",
      "metadata": {
        "id": "vshI4VN1Hpgi"
      },
      "source": [
        "# Modelo\n",
        "Vamos a crear una red neuronal que solo tenga una hidden layer. Vamos a usar la siguiente regla del pulgar para escoger el número de neuronas:\n",
        "$$N_h=\\frac{N_s}{\\alpha\\cdot(N_i+N_o)}$$\n",
        "En donde:\n",
        "- $N_i:$ Es el número de las neuronas inputs (número de columnas).\n",
        "- $N_o:$ Número de neuronas en la capa de salida (número de categorías posibles).\n",
        "- $N_s:$ Número de observaciones.\n",
        "- $\\alpha:$ Factor arbitrario entre 2 y 10.\n",
        "\n",
        "Se pueden crear n capas ocultas \n",
        "\n",
        "Tenemos la regla del pulgar que dice el estimado de más o menos cuantos nodos se deberían usar en una capa oculta.\n"
      ]
    },
    {
      "cell_type": "code",
      "source": [
        "# Importamos data, data_clean, tf_idf, tf_idf_reducido\n",
        "# https://github.com/ignaciomsarmiento/datasets/raw/main/datos_para_modelar.RData\n",
        "load(\"train_clean.RData\")"
      ],
      "metadata": {
        "id": "V7ydrAQPMKWq"
      },
      "execution_count": 3,
      "outputs": []
    },
    {
      "cell_type": "code",
      "source": [
        "sum(is.na(train_clean$name)) # data clean, mirar si tenemos datos faltantes"
      ],
      "metadata": {
        "colab": {
          "base_uri": "https://localhost:8080/",
          "height": 34
        },
        "id": "SRaOVOVpL4do",
        "outputId": "408466e9-c6ff-4ada-87db-756ce9cf3252"
      },
      "execution_count": 4,
      "outputs": [
        {
          "output_type": "display_data",
          "data": {
            "text/html": [
              "0"
            ],
            "text/markdown": "0",
            "text/latex": "0",
            "text/plain": [
              "[1] 0"
            ]
          },
          "metadata": {}
        }
      ]
    },
    {
      "cell_type": "code",
      "source": [
        "table(train_clean$name)"
      ],
      "metadata": {
        "colab": {
          "base_uri": "https://localhost:8080/",
          "height": 69
        },
        "id": "AxlTm2ReL8Nw",
        "outputId": "8be74c5e-dd69-4a11-a217-7e4510b4a488"
      },
      "execution_count": 5,
      "outputs": [
        {
          "output_type": "display_data",
          "data": {
            "text/plain": [
              "\n",
              "   1    2    3 \n",
              "3468 2873 3000 "
            ]
          },
          "metadata": {}
        }
      ]
    },
    {
      "cell_type": "code",
      "source": [
        "library(dplyr)"
      ],
      "metadata": {
        "id": "RN_wYqr9PIpq",
        "colab": {
          "base_uri": "https://localhost:8080/"
        },
        "outputId": "865fbfae-b7a6-429a-a7a1-72a995638b84"
      },
      "execution_count": 6,
      "outputs": [
        {
          "output_type": "stream",
          "name": "stderr",
          "text": [
            "\n",
            "Attaching package: ‘dplyr’\n",
            "\n",
            "\n",
            "The following objects are masked from ‘package:stats’:\n",
            "\n",
            "    filter, lag\n",
            "\n",
            "\n",
            "The following objects are masked from ‘package:base’:\n",
            "\n",
            "    intersect, setdiff, setequal, union\n",
            "\n",
            "\n"
          ]
        }
      ]
    },
    {
      "cell_type": "code",
      "source": [
        "head(train_clean,10)"
      ],
      "metadata": {
        "colab": {
          "base_uri": "https://localhost:8080/",
          "height": 446
        },
        "id": "T0MrHsLLPN5D",
        "outputId": "a1e7a8e8-c1f4-4492-873a-21e920c12432"
      },
      "execution_count": 7,
      "outputs": [
        {
          "output_type": "display_data",
          "data": {
            "text/html": [
              "<table class=\"dataframe\">\n",
              "<caption>A tibble: 10 × 3</caption>\n",
              "<thead>\n",
              "\t<tr><th scope=col>id</th><th scope=col>name</th><th scope=col>texto</th></tr>\n",
              "\t<tr><th scope=col>&lt;chr&gt;</th><th scope=col>&lt;fct&gt;</th><th scope=col>&lt;chr&gt;</th></tr>\n",
              "</thead>\n",
              "<tbody>\n",
              "\t<tr><td>0002fd5a5cc196257335c0d7</td><td>1</td><td>manana feria santamario show arbol abundancia ir invito ir disfrutar familiar amigo evento preparado amor podar celebrar junto navidad                                                                    </td></tr>\n",
              "\t<tr><td>00049c5a2f555cfd13544693</td><td>3</td><td>amenazar asesinar asesinar columnista emerson grajal                                                                                                                                                      </td></tr>\n",
              "\t<tr><td>0005c20695e7b3a5babff571</td><td>1</td><td>policia concentrarse seguridad ciudadana prevencion delito captura delincuente desarticulacion banda criminal bogota necesitar policia distraer tema margen prioridad                                     </td></tr>\n",
              "\t<tr><td>0005f46356c00cc4f5702f01</td><td>1</td><td>iniciar mesa tecnico presidente ratifico gobierno pondria recurso adicional caso importante aclarar aclarar ra linea construccion contrato vigente colombiano obra ejecucion seguira                      </td></tr>\n",
              "\t<tr><td>000ba279c4a0ff679d8d3fdc</td><td>3</td><td>elevado costo energiar europar                                                                                                                                                                            </td></tr>\n",
              "\t<tr><td>0014838239be8f5311356c37</td><td>3</td><td>quema vehiculo extender suroeste antioquia                                                                                                                                                                </td></tr>\n",
              "\t<tr><td>0016e2ea721674d194c84565</td><td>1</td><td>arma poderoso confianza ciudadana rescatar deber reformar policia desmilitarizarla viejo practica conflicto armado reclutir formar vigile policia civilista dependa ministerio defensa fuero militar      </td></tr>\n",
              "\t<tr><td>002293cf41be87e10439d016</td><td>1</td><td>exterminio up huella fractura doloroso historia deber reconocer reconocer reconocer reparar reparar reparar repetir tanto amigo familia victima llorado padecido exterminio estigmar amor apoyo admiracion</td></tr>\n",
              "\t<tr><td>003777a80693e94fbb146f12</td><td>2</td><td>avance educativo bogota responsabikidad alcalde alcaldesa acerca promedio ocder bogota hacerse                                                                                                            </td></tr>\n",
              "\t<tr><td>003fde29492d13c9a1c3f66c</td><td>3</td><td>eliminar eliminar eliminar droga proteccion recurso natural sembrar hectarea droga eliminar hectarea bosque primario convencionescentrodemocratico                                                        </td></tr>\n",
              "</tbody>\n",
              "</table>\n"
            ],
            "text/markdown": "\nA tibble: 10 × 3\n\n| id &lt;chr&gt; | name &lt;fct&gt; | texto &lt;chr&gt; |\n|---|---|---|\n| 0002fd5a5cc196257335c0d7 | 1 | manana feria santamario show arbol abundancia ir invito ir disfrutar familiar amigo evento preparado amor podar celebrar junto navidad                                                                     |\n| 00049c5a2f555cfd13544693 | 3 | amenazar asesinar asesinar columnista emerson grajal                                                                                                                                                       |\n| 0005c20695e7b3a5babff571 | 1 | policia concentrarse seguridad ciudadana prevencion delito captura delincuente desarticulacion banda criminal bogota necesitar policia distraer tema margen prioridad                                      |\n| 0005f46356c00cc4f5702f01 | 1 | iniciar mesa tecnico presidente ratifico gobierno pondria recurso adicional caso importante aclarar aclarar ra linea construccion contrato vigente colombiano obra ejecucion seguira                       |\n| 000ba279c4a0ff679d8d3fdc | 3 | elevado costo energiar europar                                                                                                                                                                             |\n| 0014838239be8f5311356c37 | 3 | quema vehiculo extender suroeste antioquia                                                                                                                                                                 |\n| 0016e2ea721674d194c84565 | 1 | arma poderoso confianza ciudadana rescatar deber reformar policia desmilitarizarla viejo practica conflicto armado reclutir formar vigile policia civilista dependa ministerio defensa fuero militar       |\n| 002293cf41be87e10439d016 | 1 | exterminio up huella fractura doloroso historia deber reconocer reconocer reconocer reparar reparar reparar repetir tanto amigo familia victima llorado padecido exterminio estigmar amor apoyo admiracion |\n| 003777a80693e94fbb146f12 | 2 | avance educativo bogota responsabikidad alcalde alcaldesa acerca promedio ocder bogota hacerse                                                                                                             |\n| 003fde29492d13c9a1c3f66c | 3 | eliminar eliminar eliminar droga proteccion recurso natural sembrar hectarea droga eliminar hectarea bosque primario convencionescentrodemocratico                                                         |\n\n",
            "text/latex": "A tibble: 10 × 3\n\\begin{tabular}{lll}\n id & name & texto\\\\\n <chr> & <fct> & <chr>\\\\\n\\hline\n\t 0002fd5a5cc196257335c0d7 & 1 & manana feria santamario show arbol abundancia ir invito ir disfrutar familiar amigo evento preparado amor podar celebrar junto navidad                                                                    \\\\\n\t 00049c5a2f555cfd13544693 & 3 & amenazar asesinar asesinar columnista emerson grajal                                                                                                                                                      \\\\\n\t 0005c20695e7b3a5babff571 & 1 & policia concentrarse seguridad ciudadana prevencion delito captura delincuente desarticulacion banda criminal bogota necesitar policia distraer tema margen prioridad                                     \\\\\n\t 0005f46356c00cc4f5702f01 & 1 & iniciar mesa tecnico presidente ratifico gobierno pondria recurso adicional caso importante aclarar aclarar ra linea construccion contrato vigente colombiano obra ejecucion seguira                      \\\\\n\t 000ba279c4a0ff679d8d3fdc & 3 & elevado costo energiar europar                                                                                                                                                                            \\\\\n\t 0014838239be8f5311356c37 & 3 & quema vehiculo extender suroeste antioquia                                                                                                                                                                \\\\\n\t 0016e2ea721674d194c84565 & 1 & arma poderoso confianza ciudadana rescatar deber reformar policia desmilitarizarla viejo practica conflicto armado reclutir formar vigile policia civilista dependa ministerio defensa fuero militar      \\\\\n\t 002293cf41be87e10439d016 & 1 & exterminio up huella fractura doloroso historia deber reconocer reconocer reconocer reparar reparar reparar repetir tanto amigo familia victima llorado padecido exterminio estigmar amor apoyo admiracion\\\\\n\t 003777a80693e94fbb146f12 & 2 & avance educativo bogota responsabikidad alcalde alcaldesa acerca promedio ocder bogota hacerse                                                                                                            \\\\\n\t 003fde29492d13c9a1c3f66c & 3 & eliminar eliminar eliminar droga proteccion recurso natural sembrar hectarea droga eliminar hectarea bosque primario convencionescentrodemocratico                                                        \\\\\n\\end{tabular}\n",
            "text/plain": [
              "   id                       name\n",
              "1  0002fd5a5cc196257335c0d7 1   \n",
              "2  00049c5a2f555cfd13544693 3   \n",
              "3  0005c20695e7b3a5babff571 1   \n",
              "4  0005f46356c00cc4f5702f01 1   \n",
              "5  000ba279c4a0ff679d8d3fdc 3   \n",
              "6  0014838239be8f5311356c37 3   \n",
              "7  0016e2ea721674d194c84565 1   \n",
              "8  002293cf41be87e10439d016 1   \n",
              "9  003777a80693e94fbb146f12 2   \n",
              "10 003fde29492d13c9a1c3f66c 3   \n",
              "   texto                                                                                                                                                                                                     \n",
              "1  manana feria santamario show arbol abundancia ir invito ir disfrutar familiar amigo evento preparado amor podar celebrar junto navidad                                                                    \n",
              "2  amenazar asesinar asesinar columnista emerson grajal                                                                                                                                                      \n",
              "3  policia concentrarse seguridad ciudadana prevencion delito captura delincuente desarticulacion banda criminal bogota necesitar policia distraer tema margen prioridad                                     \n",
              "4  iniciar mesa tecnico presidente ratifico gobierno pondria recurso adicional caso importante aclarar aclarar ra linea construccion contrato vigente colombiano obra ejecucion seguira                      \n",
              "5  elevado costo energiar europar                                                                                                                                                                            \n",
              "6  quema vehiculo extender suroeste antioquia                                                                                                                                                                \n",
              "7  arma poderoso confianza ciudadana rescatar deber reformar policia desmilitarizarla viejo practica conflicto armado reclutir formar vigile policia civilista dependa ministerio defensa fuero militar      \n",
              "8  exterminio up huella fractura doloroso historia deber reconocer reconocer reconocer reparar reparar reparar repetir tanto amigo familia victima llorado padecido exterminio estigmar amor apoyo admiracion\n",
              "9  avance educativo bogota responsabikidad alcalde alcaldesa acerca promedio ocder bogota hacerse                                                                                                            \n",
              "10 eliminar eliminar eliminar droga proteccion recurso natural sembrar hectarea droga eliminar hectarea bosque primario convencionescentrodemocratico                                                        "
            ]
          },
          "metadata": {}
        }
      ]
    },
    {
      "cell_type": "code",
      "source": [
        "Y_train <- train_clean$name\n",
        "Y_train <- to_categorical(Y_train) # convertir en variable categorica"
      ],
      "metadata": {
        "id": "CxUZFgqAJUsb"
      },
      "execution_count": 8,
      "outputs": []
    },
    {
      "cell_type": "code",
      "source": [
        "head(Y_train,10)\n",
        "dim(Y_train)\n",
        "class(Y_train)"
      ],
      "metadata": {
        "colab": {
          "base_uri": "https://localhost:8080/",
          "height": 400
        },
        "id": "Z6cLzklbkFLP",
        "outputId": "f8cd2aed-16d2-4c0a-d33f-3464c5322ff3"
      },
      "execution_count": 9,
      "outputs": [
        {
          "output_type": "display_data",
          "data": {
            "text/html": [
              "<table class=\"dataframe\">\n",
              "<caption>A matrix: 10 × 4 of type dbl</caption>\n",
              "<tbody>\n",
              "\t<tr><td>0</td><td>1</td><td>0</td><td>0</td></tr>\n",
              "\t<tr><td>0</td><td>0</td><td>0</td><td>1</td></tr>\n",
              "\t<tr><td>0</td><td>1</td><td>0</td><td>0</td></tr>\n",
              "\t<tr><td>0</td><td>1</td><td>0</td><td>0</td></tr>\n",
              "\t<tr><td>0</td><td>0</td><td>0</td><td>1</td></tr>\n",
              "\t<tr><td>0</td><td>0</td><td>0</td><td>1</td></tr>\n",
              "\t<tr><td>0</td><td>1</td><td>0</td><td>0</td></tr>\n",
              "\t<tr><td>0</td><td>1</td><td>0</td><td>0</td></tr>\n",
              "\t<tr><td>0</td><td>0</td><td>1</td><td>0</td></tr>\n",
              "\t<tr><td>0</td><td>0</td><td>0</td><td>1</td></tr>\n",
              "</tbody>\n",
              "</table>\n"
            ],
            "text/markdown": "\nA matrix: 10 × 4 of type dbl\n\n| 0 | 1 | 0 | 0 |\n| 0 | 0 | 0 | 1 |\n| 0 | 1 | 0 | 0 |\n| 0 | 1 | 0 | 0 |\n| 0 | 0 | 0 | 1 |\n| 0 | 0 | 0 | 1 |\n| 0 | 1 | 0 | 0 |\n| 0 | 1 | 0 | 0 |\n| 0 | 0 | 1 | 0 |\n| 0 | 0 | 0 | 1 |\n\n",
            "text/latex": "A matrix: 10 × 4 of type dbl\n\\begin{tabular}{llll}\n\t 0 & 1 & 0 & 0\\\\\n\t 0 & 0 & 0 & 1\\\\\n\t 0 & 1 & 0 & 0\\\\\n\t 0 & 1 & 0 & 0\\\\\n\t 0 & 0 & 0 & 1\\\\\n\t 0 & 0 & 0 & 1\\\\\n\t 0 & 1 & 0 & 0\\\\\n\t 0 & 1 & 0 & 0\\\\\n\t 0 & 0 & 1 & 0\\\\\n\t 0 & 0 & 0 & 1\\\\\n\\end{tabular}\n",
            "text/plain": [
              "      [,1] [,2] [,3] [,4]\n",
              " [1,] 0    1    0    0   \n",
              " [2,] 0    0    0    1   \n",
              " [3,] 0    1    0    0   \n",
              " [4,] 0    1    0    0   \n",
              " [5,] 0    0    0    1   \n",
              " [6,] 0    0    0    1   \n",
              " [7,] 0    1    0    0   \n",
              " [8,] 0    1    0    0   \n",
              " [9,] 0    0    1    0   \n",
              "[10,] 0    0    0    1   "
            ]
          },
          "metadata": {}
        },
        {
          "output_type": "display_data",
          "data": {
            "text/html": [
              "<style>\n",
              ".list-inline {list-style: none; margin:0; padding: 0}\n",
              ".list-inline>li {display: inline-block}\n",
              ".list-inline>li:not(:last-child)::after {content: \"\\00b7\"; padding: 0 .5ex}\n",
              "</style>\n",
              "<ol class=list-inline><li>9341</li><li>4</li></ol>\n"
            ],
            "text/markdown": "1. 9341\n2. 4\n\n\n",
            "text/latex": "\\begin{enumerate*}\n\\item 9341\n\\item 4\n\\end{enumerate*}\n",
            "text/plain": [
              "[1] 9341    4"
            ]
          },
          "metadata": {}
        },
        {
          "output_type": "display_data",
          "data": {
            "text/html": [
              "<style>\n",
              ".list-inline {list-style: none; margin:0; padding: 0}\n",
              ".list-inline>li {display: inline-block}\n",
              ".list-inline>li:not(:last-child)::after {content: \"\\00b7\"; padding: 0 .5ex}\n",
              "</style>\n",
              "<ol class=list-inline><li>'matrix'</li><li>'array'</li></ol>\n"
            ],
            "text/markdown": "1. 'matrix'\n2. 'array'\n\n\n",
            "text/latex": "\\begin{enumerate*}\n\\item 'matrix'\n\\item 'array'\n\\end{enumerate*}\n",
            "text/plain": [
              "[1] \"matrix\" \"array\" "
            ]
          },
          "metadata": {}
        }
      ]
    },
    {
      "cell_type": "code",
      "source": [
        "load(\"tf_idf_train.RData\")"
      ],
      "metadata": {
        "id": "hNLrfpa_QtcU"
      },
      "execution_count": 10,
      "outputs": []
    },
    {
      "cell_type": "code",
      "source": [
        "X <- as.matrix(tf_idf_train) # matriz de frecuencias\n",
        "class(X)"
      ],
      "metadata": {
        "colab": {
          "base_uri": "https://localhost:8080/",
          "height": 34
        },
        "id": "DMxHLjLtMMCZ",
        "outputId": "c0921548-4fe9-4a09-918f-9af4ab516770"
      },
      "execution_count": 11,
      "outputs": [
        {
          "output_type": "display_data",
          "data": {
            "text/html": [
              "<style>\n",
              ".list-inline {list-style: none; margin:0; padding: 0}\n",
              ".list-inline>li {display: inline-block}\n",
              ".list-inline>li:not(:last-child)::after {content: \"\\00b7\"; padding: 0 .5ex}\n",
              "</style>\n",
              "<ol class=list-inline><li>'matrix'</li><li>'array'</li></ol>\n"
            ],
            "text/markdown": "1. 'matrix'\n2. 'array'\n\n\n",
            "text/latex": "\\begin{enumerate*}\n\\item 'matrix'\n\\item 'array'\n\\end{enumerate*}\n",
            "text/plain": [
              "[1] \"matrix\" \"array\" "
            ]
          },
          "metadata": {}
        }
      ]
    },
    {
      "cell_type": "code",
      "source": [
        "dim(X) "
      ],
      "metadata": {
        "id": "py8d-AxJPOhA",
        "colab": {
          "base_uri": "https://localhost:8080/",
          "height": 34
        },
        "outputId": "4b98d7b9-29f2-4e74-d99b-2f7f2f521ed6"
      },
      "execution_count": 12,
      "outputs": [
        {
          "output_type": "display_data",
          "data": {
            "text/html": [
              "<style>\n",
              ".list-inline {list-style: none; margin:0; padding: 0}\n",
              ".list-inline>li {display: inline-block}\n",
              ".list-inline>li:not(:last-child)::after {content: \"\\00b7\"; padding: 0 .5ex}\n",
              "</style>\n",
              "<ol class=list-inline><li>9341</li><li>17020</li></ol>\n"
            ],
            "text/markdown": "1. 9341\n2. 17020\n\n\n",
            "text/latex": "\\begin{enumerate*}\n\\item 9341\n\\item 17020\n\\end{enumerate*}\n",
            "text/plain": [
              "[1]  9341 17020"
            ]
          },
          "metadata": {}
        }
      ]
    },
    {
      "cell_type": "code",
      "source": [
        "columnas <- colSums(tf_idf_train) %>%\n",
        "  data.frame() %>%\n",
        "  arrange(desc(.)) %>%\n",
        "  head(250) %>% # Dejar las 250 columnas de palabras más importantes\n",
        "  rownames()"
      ],
      "metadata": {
        "id": "bjeusmWkceuG"
      },
      "execution_count": 13,
      "outputs": []
    },
    {
      "cell_type": "code",
      "source": [
        "tf_idf_train_reducido <- tf_idf_train %>% \n",
        "  select(all_of(columnas))"
      ],
      "metadata": {
        "id": "rb4RqkR6c4Xt"
      },
      "execution_count": 14,
      "outputs": []
    },
    {
      "cell_type": "code",
      "source": [
        "X_train <- as.matrix(tf_idf_train_reducido)\n",
        "dim(X_train)"
      ],
      "metadata": {
        "colab": {
          "base_uri": "https://localhost:8080/",
          "height": 34
        },
        "id": "3sLyhGUAdMsk",
        "outputId": "8f8bed60-8201-4d61-ad3a-2f73513e9e01"
      },
      "execution_count": 15,
      "outputs": [
        {
          "output_type": "display_data",
          "data": {
            "text/html": [
              "<style>\n",
              ".list-inline {list-style: none; margin:0; padding: 0}\n",
              ".list-inline>li {display: inline-block}\n",
              ".list-inline>li:not(:last-child)::after {content: \"\\00b7\"; padding: 0 .5ex}\n",
              "</style>\n",
              "<ol class=list-inline><li>9341</li><li>250</li></ol>\n"
            ],
            "text/markdown": "1. 9341\n2. 250\n\n\n",
            "text/latex": "\\begin{enumerate*}\n\\item 9341\n\\item 250\n\\end{enumerate*}\n",
            "text/plain": [
              "[1] 9341  250"
            ]
          },
          "metadata": {}
        }
      ]
    },
    {
      "cell_type": "code",
      "source": [
        "#X_train <- as.matrix(tf_idf_train)\n",
        "dim(X_train)"
      ],
      "metadata": {
        "colab": {
          "base_uri": "https://localhost:8080/",
          "height": 34
        },
        "outputId": "4c186473-6826-4b48-ea38-05e143822d33",
        "id": "Q6j4U0tLxWjG"
      },
      "execution_count": 16,
      "outputs": [
        {
          "output_type": "display_data",
          "data": {
            "text/html": [
              "<style>\n",
              ".list-inline {list-style: none; margin:0; padding: 0}\n",
              ".list-inline>li {display: inline-block}\n",
              ".list-inline>li:not(:last-child)::after {content: \"\\00b7\"; padding: 0 .5ex}\n",
              "</style>\n",
              "<ol class=list-inline><li>9341</li><li>250</li></ol>\n"
            ],
            "text/markdown": "1. 9341\n2. 250\n\n\n",
            "text/latex": "\\begin{enumerate*}\n\\item 9341\n\\item 250\n\\end{enumerate*}\n",
            "text/plain": [
              "[1] 9341  250"
            ]
          },
          "metadata": {}
        }
      ]
    },
    {
      "cell_type": "code",
      "execution_count": 17,
      "metadata": {
        "vscode": {
          "languageId": "r"
        },
        "colab": {
          "base_uri": "https://localhost:8080/",
          "height": 34
        },
        "id": "TvxFy22AHpgi",
        "outputId": "568d795e-bc4d-482e-e00e-f9ea32978877"
      },
      "outputs": [
        {
          "output_type": "display_data",
          "data": {
            "text/html": [
              "18.4604743083004"
            ],
            "text/markdown": "18.4604743083004",
            "text/latex": "18.4604743083004",
            "text/plain": [
              "[1] 18.46047"
            ]
          },
          "metadata": {}
        }
      ],
      "source": [
        "set.seed(3312)\n",
        "\n",
        "n_h = nrow(X_train)/(2*(ncol(X_train) + 3)) # formula anterior de la regla del pulgar\n",
        "n_h\n",
        "\n"
      ]
    },
    {
      "cell_type": "code",
      "source": [
        "##Crear modelo. Dar en orden las capas de quiero\n",
        "model1 <- keras_model_sequential() \n",
        "\n",
        "model1 %>% \n",
        "  layer_dense(units = 800, activation = 'relu', input_shape = ncol(X_train)) %>% # capa de entrada, con función de activación \n",
        "  layer_dropout(rate = 0.5) %>% # capa interna, aleatoraimente elimina algunas de los nodos en cada corrida para evitar overfitting. rate es el % de nodos que quiero se eliminen en cada corrida\n",
        "  layer_dense(units = 4, activation = 'softmax') # capa de salida\n",
        "summary(model1)\n",
        "\n",
        "  # units corresponde al valor de cateogrias que se quiere clasificar\n",
        "\n",
        "# Arquitectura del modelo\n",
        "model1 %>% compile(\n",
        "  optimizer = 'adam',\n",
        "  loss = 'categorical_crossentropy', # minimizar funcion de perdida\n",
        "  metrics = c('CategoricalAccuracy') \n",
        ")"
      ],
      "metadata": {
        "colab": {
          "base_uri": "https://localhost:8080/"
        },
        "id": "S2c1QyZdBJrN",
        "outputId": "93254a5e-9ac5-4a78-9cb5-0e3265c776d1"
      },
      "execution_count": 18,
      "outputs": [
        {
          "output_type": "stream",
          "name": "stdout",
          "text": [
            "Model: \"sequential\"\n",
            "________________________________________________________________________________\n",
            " Layer (type)                       Output Shape                    Param #     \n",
            "================================================================================\n",
            " dense_1 (Dense)                    (None, 800)                     200800      \n",
            " dropout (Dropout)                  (None, 800)                     0           \n",
            " dense (Dense)                      (None, 4)                       3204        \n",
            "================================================================================\n",
            "Total params: 204,004\n",
            "Trainable params: 204,004\n",
            "Non-trainable params: 0\n",
            "________________________________________________________________________________\n"
          ]
        }
      ]
    },
    {
      "cell_type": "code",
      "source": [
        "history <- model1 %>% \n",
        "  fit(\n",
        "    X_train, Y_train, # entrenar el modelo\n",
        "    epochs = 400, # aprende 2 veces dentro de los baches de epoca\n",
        "    batch_size = 2^8, #tamaño de datos que quiero que aprende dentro del tamaño del bache\n",
        "    validation_split = 0.2 # set datos de entrenamiento para validar los parámetros\n",
        "  )\n",
        "\n",
        "#guarda lo que pasa en cada momento del tiempo"
      ],
      "metadata": {
        "id": "4vXQZAmXJszz"
      },
      "execution_count": 19,
      "outputs": []
    },
    {
      "cell_type": "code",
      "source": [
        "plot(history)"
      ],
      "metadata": {
        "colab": {
          "base_uri": "https://localhost:8080/",
          "height": 437
        },
        "id": "1j0YEJhaPZRJ",
        "outputId": "1d3108e0-e4d4-4b4f-c4d5-b69a3cc3660a"
      },
      "execution_count": 20,
      "outputs": [
        {
          "output_type": "display_data",
          "data": {
            "text/plain": [
              "plot without title"
            ],
            "image/png": "[encoded data removed]"
          },
          "metadata": {
            "image/png": {
              "width": 420,
              "height": 420
            }
          }
        }
      ]
    },
    {
      "cell_type": "code",
      "source": [
        "load(\"tf_idf_test.RData\")"
      ],
      "metadata": {
        "id": "y4_zsCvXm2BY"
      },
      "execution_count": 21,
      "outputs": []
    },
    {
      "cell_type": "code",
      "source": [
        "columnas <- colSums(tf_idf_test) %>%\n",
        "  data.frame() %>%\n",
        "  arrange(desc(.)) %>%\n",
        "  head(250) %>% # Dejar las 250 columnas de palabras más importantes\n",
        "  rownames()"
      ],
      "metadata": {
        "id": "yez6ilalmqEK"
      },
      "execution_count": 22,
      "outputs": []
    },
    {
      "cell_type": "code",
      "source": [
        "tf_idf_test_reducido <- tf_idf_test %>% \n",
        "  select(all_of(columnas))"
      ],
      "metadata": {
        "id": "PSsCQFBCm6uz"
      },
      "execution_count": 23,
      "outputs": []
    },
    {
      "cell_type": "code",
      "source": [
        "X_test <- as.matrix(tf_idf_test_reducido)\n",
        "dim(X_test)"
      ],
      "metadata": {
        "colab": {
          "base_uri": "https://localhost:8080/",
          "height": 34
        },
        "id": "dgt8YRmSm_s0",
        "outputId": "f8f50325-cfa5-463d-8794-f4cc04815497"
      },
      "execution_count": 24,
      "outputs": [
        {
          "output_type": "display_data",
          "data": {
            "text/html": [
              "<style>\n",
              ".list-inline {list-style: none; margin:0; padding: 0}\n",
              ".list-inline>li {display: inline-block}\n",
              ".list-inline>li:not(:last-child)::after {content: \"\\00b7\"; padding: 0 .5ex}\n",
              "</style>\n",
              "<ol class=list-inline><li>1499</li><li>250</li></ol>\n"
            ],
            "text/markdown": "1. 1499\n2. 250\n\n\n",
            "text/latex": "\\begin{enumerate*}\n\\item 1499\n\\item 250\n\\end{enumerate*}\n",
            "text/plain": [
              "[1] 1499  250"
            ]
          },
          "metadata": {}
        }
      ]
    },
    {
      "cell_type": "code",
      "source": [
        "y_hat <- model1 %>% predict(X_test) %>% k_argmax()\n",
        "head(y_hat)"
      ],
      "metadata": {
        "colab": {
          "base_uri": "https://localhost:8080/",
          "height": 34
        },
        "id": "1FmCklKnPo6w",
        "outputId": "313eba37-e97d-47f7-cf56-6bc5bfd3f805"
      },
      "execution_count": 25,
      "outputs": [
        {
          "output_type": "display_data",
          "data": {
            "text/plain": [
              "tf.Tensor([2 2 1 2 1 3], shape=(6), dtype=int64)"
            ]
          },
          "metadata": {}
        }
      ]
    },
    {
      "cell_type": "code",
      "source": [
        "prediccion <- factor(as.numeric(y_hat), levels = 1:3, labels = c(\"Lopez\", \"Petro\", \"Uribe\"))\n",
        "head(prediccion,10)"
      ],
      "metadata": {
        "colab": {
          "base_uri": "https://localhost:8080/",
          "height": 52
        },
        "id": "iBJt9fKspmBO",
        "outputId": "d890e612-f760-403a-ac81-b29995f1311b"
      },
      "execution_count": 26,
      "outputs": [
        {
          "output_type": "display_data",
          "data": {
            "text/html": [
              "<style>\n",
              ".list-inline {list-style: none; margin:0; padding: 0}\n",
              ".list-inline>li {display: inline-block}\n",
              ".list-inline>li:not(:last-child)::after {content: \"\\00b7\"; padding: 0 .5ex}\n",
              "</style>\n",
              "<ol class=list-inline><li>Petro</li><li>Petro</li><li>Lopez</li><li>Petro</li><li>Lopez</li><li>Uribe</li><li>Uribe</li><li>Lopez</li><li>Lopez</li><li>Lopez</li></ol>\n",
              "\n",
              "<details>\n",
              "\t<summary style=display:list-item;cursor:pointer>\n",
              "\t\t<strong>Levels</strong>:\n",
              "\t</summary>\n",
              "\t<style>\n",
              "\t.list-inline {list-style: none; margin:0; padding: 0}\n",
              "\t.list-inline>li {display: inline-block}\n",
              "\t.list-inline>li:not(:last-child)::after {content: \"\\00b7\"; padding: 0 .5ex}\n",
              "\t</style>\n",
              "\t<ol class=list-inline><li>'Lopez'</li><li>'Petro'</li><li>'Uribe'</li></ol>\n",
              "</details>"
            ],
            "text/markdown": "1. Petro\n2. Petro\n3. Lopez\n4. Petro\n5. Lopez\n6. Uribe\n7. Uribe\n8. Lopez\n9. Lopez\n10. Lopez\n\n\n\n**Levels**: 1. 'Lopez'\n2. 'Petro'\n3. 'Uribe'\n\n\n",
            "text/latex": "\\begin{enumerate*}\n\\item Petro\n\\item Petro\n\\item Lopez\n\\item Petro\n\\item Lopez\n\\item Uribe\n\\item Uribe\n\\item Lopez\n\\item Lopez\n\\item Lopez\n\\end{enumerate*}\n\n\\emph{Levels}: \\begin{enumerate*}\n\\item 'Lopez'\n\\item 'Petro'\n\\item 'Uribe'\n\\end{enumerate*}\n",
            "text/plain": [
              " [1] Petro Petro Lopez Petro Lopez Uribe Uribe Lopez Lopez Lopez\n",
              "Levels: Lopez Petro Uribe"
            ]
          },
          "metadata": {}
        }
      ]
    },
    {
      "cell_type": "code",
      "source": [
        "load(\"test_clean.RData\")"
      ],
      "metadata": {
        "id": "E0wxnYTypCYi"
      },
      "execution_count": 27,
      "outputs": []
    },
    {
      "cell_type": "code",
      "source": [
        "resultado <- data.frame(test_clean$id, prediccion)\n",
        "head(resultado,10)"
      ],
      "metadata": {
        "colab": {
          "base_uri": "https://localhost:8080/",
          "height": 412
        },
        "id": "3Qu2jv96os4U",
        "outputId": "3e070c6d-ea96-4fcc-edd2-5477f4506f1d"
      },
      "execution_count": 28,
      "outputs": [
        {
          "output_type": "display_data",
          "data": {
            "text/html": [
              "<table class=\"dataframe\">\n",
              "<caption>A data.frame: 10 × 2</caption>\n",
              "<thead>\n",
              "\t<tr><th></th><th scope=col>test_clean.id</th><th scope=col>prediccion</th></tr>\n",
              "\t<tr><th></th><th scope=col>&lt;chr&gt;</th><th scope=col>&lt;fct&gt;</th></tr>\n",
              "</thead>\n",
              "<tbody>\n",
              "\t<tr><th scope=row>1</th><td>0004d31c290018d960ea1b61</td><td>Petro</td></tr>\n",
              "\t<tr><th scope=row>2</th><td>001387a7e556a17e9af9e684</td><td>Petro</td></tr>\n",
              "\t<tr><th scope=row>3</th><td>0017570ee84b80e1c3e10218</td><td>Lopez</td></tr>\n",
              "\t<tr><th scope=row>4</th><td>0036f3d867393f8effa12b66</td><td>Petro</td></tr>\n",
              "\t<tr><th scope=row>5</th><td>004508bf8e624f9656fdf9ec</td><td>Lopez</td></tr>\n",
              "\t<tr><th scope=row>6</th><td>0052da408e75b7813dbcc512</td><td>Uribe</td></tr>\n",
              "\t<tr><th scope=row>7</th><td>007bdeb03c21d2f9d469ddad</td><td>Uribe</td></tr>\n",
              "\t<tr><th scope=row>8</th><td>0082edc86dfa7e2d6e95bd4d</td><td>Lopez</td></tr>\n",
              "\t<tr><th scope=row>9</th><td>0087a99cd90e95c19e3b037b</td><td>Lopez</td></tr>\n",
              "\t<tr><th scope=row>10</th><td>00945da0872f1e8c687dea2f</td><td>Lopez</td></tr>\n",
              "</tbody>\n",
              "</table>\n"
            ],
            "text/markdown": "\nA data.frame: 10 × 2\n\n| <!--/--> | test_clean.id &lt;chr&gt; | prediccion &lt;fct&gt; |\n|---|---|---|\n| 1 | 0004d31c290018d960ea1b61 | Petro |\n| 2 | 001387a7e556a17e9af9e684 | Petro |\n| 3 | 0017570ee84b80e1c3e10218 | Lopez |\n| 4 | 0036f3d867393f8effa12b66 | Petro |\n| 5 | 004508bf8e624f9656fdf9ec | Lopez |\n| 6 | 0052da408e75b7813dbcc512 | Uribe |\n| 7 | 007bdeb03c21d2f9d469ddad | Uribe |\n| 8 | 0082edc86dfa7e2d6e95bd4d | Lopez |\n| 9 | 0087a99cd90e95c19e3b037b | Lopez |\n| 10 | 00945da0872f1e8c687dea2f | Lopez |\n\n",
            "text/latex": "A data.frame: 10 × 2\n\\begin{tabular}{r|ll}\n  & test\\_clean.id & prediccion\\\\\n  & <chr> & <fct>\\\\\n\\hline\n\t1 & 0004d31c290018d960ea1b61 & Petro\\\\\n\t2 & 001387a7e556a17e9af9e684 & Petro\\\\\n\t3 & 0017570ee84b80e1c3e10218 & Lopez\\\\\n\t4 & 0036f3d867393f8effa12b66 & Petro\\\\\n\t5 & 004508bf8e624f9656fdf9ec & Lopez\\\\\n\t6 & 0052da408e75b7813dbcc512 & Uribe\\\\\n\t7 & 007bdeb03c21d2f9d469ddad & Uribe\\\\\n\t8 & 0082edc86dfa7e2d6e95bd4d & Lopez\\\\\n\t9 & 0087a99cd90e95c19e3b037b & Lopez\\\\\n\t10 & 00945da0872f1e8c687dea2f & Lopez\\\\\n\\end{tabular}\n",
            "text/plain": [
              "   test_clean.id            prediccion\n",
              "1  0004d31c290018d960ea1b61 Petro     \n",
              "2  001387a7e556a17e9af9e684 Petro     \n",
              "3  0017570ee84b80e1c3e10218 Lopez     \n",
              "4  0036f3d867393f8effa12b66 Petro     \n",
              "5  004508bf8e624f9656fdf9ec Lopez     \n",
              "6  0052da408e75b7813dbcc512 Uribe     \n",
              "7  007bdeb03c21d2f9d469ddad Uribe     \n",
              "8  0082edc86dfa7e2d6e95bd4d Lopez     \n",
              "9  0087a99cd90e95c19e3b037b Lopez     \n",
              "10 00945da0872f1e8c687dea2f Lopez     "
            ]
          },
          "metadata": {}
        }
      ]
    },
    {
      "cell_type": "code",
      "source": [
        "names(resultado)[1] <- \"id\"\n",
        "names(resultado)[2] <- \"name\"\n",
        "head(resultado,10)"
      ],
      "metadata": {
        "colab": {
          "base_uri": "https://localhost:8080/",
          "height": 412
        },
        "id": "uX0X8L-8uMxL",
        "outputId": "d10956ff-2328-42e3-f5b6-eb2c706dceb0"
      },
      "execution_count": 29,
      "outputs": [
        {
          "output_type": "display_data",
          "data": {
            "text/html": [
              "<table class=\"dataframe\">\n",
              "<caption>A data.frame: 10 × 2</caption>\n",
              "<thead>\n",
              "\t<tr><th></th><th scope=col>id</th><th scope=col>name</th></tr>\n",
              "\t<tr><th></th><th scope=col>&lt;chr&gt;</th><th scope=col>&lt;fct&gt;</th></tr>\n",
              "</thead>\n",
              "<tbody>\n",
              "\t<tr><th scope=row>1</th><td>0004d31c290018d960ea1b61</td><td>Petro</td></tr>\n",
              "\t<tr><th scope=row>2</th><td>001387a7e556a17e9af9e684</td><td>Petro</td></tr>\n",
              "\t<tr><th scope=row>3</th><td>0017570ee84b80e1c3e10218</td><td>Lopez</td></tr>\n",
              "\t<tr><th scope=row>4</th><td>0036f3d867393f8effa12b66</td><td>Petro</td></tr>\n",
              "\t<tr><th scope=row>5</th><td>004508bf8e624f9656fdf9ec</td><td>Lopez</td></tr>\n",
              "\t<tr><th scope=row>6</th><td>0052da408e75b7813dbcc512</td><td>Uribe</td></tr>\n",
              "\t<tr><th scope=row>7</th><td>007bdeb03c21d2f9d469ddad</td><td>Uribe</td></tr>\n",
              "\t<tr><th scope=row>8</th><td>0082edc86dfa7e2d6e95bd4d</td><td>Lopez</td></tr>\n",
              "\t<tr><th scope=row>9</th><td>0087a99cd90e95c19e3b037b</td><td>Lopez</td></tr>\n",
              "\t<tr><th scope=row>10</th><td>00945da0872f1e8c687dea2f</td><td>Lopez</td></tr>\n",
              "</tbody>\n",
              "</table>\n"
            ],
            "text/markdown": "\nA data.frame: 10 × 2\n\n| <!--/--> | id &lt;chr&gt; | name &lt;fct&gt; |\n|---|---|---|\n| 1 | 0004d31c290018d960ea1b61 | Petro |\n| 2 | 001387a7e556a17e9af9e684 | Petro |\n| 3 | 0017570ee84b80e1c3e10218 | Lopez |\n| 4 | 0036f3d867393f8effa12b66 | Petro |\n| 5 | 004508bf8e624f9656fdf9ec | Lopez |\n| 6 | 0052da408e75b7813dbcc512 | Uribe |\n| 7 | 007bdeb03c21d2f9d469ddad | Uribe |\n| 8 | 0082edc86dfa7e2d6e95bd4d | Lopez |\n| 9 | 0087a99cd90e95c19e3b037b | Lopez |\n| 10 | 00945da0872f1e8c687dea2f | Lopez |\n\n",
            "text/latex": "A data.frame: 10 × 2\n\\begin{tabular}{r|ll}\n  & id & name\\\\\n  & <chr> & <fct>\\\\\n\\hline\n\t1 & 0004d31c290018d960ea1b61 & Petro\\\\\n\t2 & 001387a7e556a17e9af9e684 & Petro\\\\\n\t3 & 0017570ee84b80e1c3e10218 & Lopez\\\\\n\t4 & 0036f3d867393f8effa12b66 & Petro\\\\\n\t5 & 004508bf8e624f9656fdf9ec & Lopez\\\\\n\t6 & 0052da408e75b7813dbcc512 & Uribe\\\\\n\t7 & 007bdeb03c21d2f9d469ddad & Uribe\\\\\n\t8 & 0082edc86dfa7e2d6e95bd4d & Lopez\\\\\n\t9 & 0087a99cd90e95c19e3b037b & Lopez\\\\\n\t10 & 00945da0872f1e8c687dea2f & Lopez\\\\\n\\end{tabular}\n",
            "text/plain": [
              "   id                       name \n",
              "1  0004d31c290018d960ea1b61 Petro\n",
              "2  001387a7e556a17e9af9e684 Petro\n",
              "3  0017570ee84b80e1c3e10218 Lopez\n",
              "4  0036f3d867393f8effa12b66 Petro\n",
              "5  004508bf8e624f9656fdf9ec Lopez\n",
              "6  0052da408e75b7813dbcc512 Uribe\n",
              "7  007bdeb03c21d2f9d469ddad Uribe\n",
              "8  0082edc86dfa7e2d6e95bd4d Lopez\n",
              "9  0087a99cd90e95c19e3b037b Lopez\n",
              "10 00945da0872f1e8c687dea2f Lopez"
            ]
          },
          "metadata": {}
        }
      ]
    },
    {
      "cell_type": "code",
      "source": [
        "# Neurona faltante\n",
        "test <- read.csv(\"test.csv\")\n",
        "tweet_faltante <- setdiff(test$id, resultado$id)\n",
        "tweet_faltante"
      ],
      "metadata": {
        "colab": {
          "base_uri": "https://localhost:8080/",
          "height": 34
        },
        "id": "5k2AwkYEvF3N",
        "outputId": "a75a087c-8e1b-451a-a44c-fe79240a6cba"
      },
      "execution_count": 30,
      "outputs": [
        {
          "output_type": "display_data",
          "data": {
            "text/html": [
              "'cb9ac947c675464803342fc9'"
            ],
            "text/markdown": "'cb9ac947c675464803342fc9'",
            "text/latex": "'cb9ac947c675464803342fc9'",
            "text/plain": [
              "[1] \"cb9ac947c675464803342fc9\""
            ]
          },
          "metadata": {}
        }
      ]
    },
    {
      "cell_type": "code",
      "source": [
        "y_hat_faltante <- data.frame(id = \"cb9ac947c675464803342fc9\", name = \"Lopez\")\n",
        "resultado <- rbind(resultado, y_hat_faltante)"
      ],
      "metadata": {
        "id": "UGuQaUXLviOL"
      },
      "execution_count": 31,
      "outputs": []
    },
    {
      "cell_type": "code",
      "source": [
        "write.csv(resultado, 'Red_Neuronal2.csv',row.names=FALSE)"
      ],
      "metadata": {
        "id": "XdrjBLFTwYYG"
      },
      "execution_count": 32,
      "outputs": []
    }
  ],
  "metadata": {
    "anaconda-cloud": "",
    "kernelspec": {
      "display_name": "R",
      "langauge": "R",
      "name": "ir"
    },
    "language_info": {
      "codemirror_mode": "r",
      "file_extension": ".r",
      "mimetype": "text/x-r-source",
      "name": "R",
      "pygments_lexer": "r",
      "version": "3.4.1"
    },
    "colab": {
      "provenance": [],
      "include_colab_link": true
    }
  },
  "nbformat": 4,
  "nbformat_minor": 0
}
