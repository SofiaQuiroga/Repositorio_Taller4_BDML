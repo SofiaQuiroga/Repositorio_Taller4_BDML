{
  "cells": [
    {
      "cell_type": "markdown",
      "metadata": {
        "id": "view-in-github",
        "colab_type": "text"
      },
      "source": [
        "<a href=\"https://colab.research.google.com/github/SofiaQuiroga/Repositorio_Taller4_BDML/blob/main/Scripts/Taller4_Red_Neuronal3_ipyn.ipynb\" target=\"_parent\"><img src=\"https://colab.research.google.com/assets/colab-badge.svg\" alt=\"Open In Colab\"/></a>"
      ]
    },
    {
      "cell_type": "markdown",
      "metadata": {
        "id": "aJ8PSgJYHpgZ"
      },
      "source": [
        "<style type=\"text/css\">\n",
        "\n",
        ".responsive {\n",
        " width: 100%;\n",
        " height: 25%;\n",
        "}\n",
        "\n",
        ".list-group-item.active, .list-group-item.active:focus, .list-group-item.active:hover {\n",
        "    z-index: 2;\n",
        "    color: #fff;\n",
        "    background-color: #1B175E;\n",
        "    border-color: #337ab7;\n",
        "}\n",
        "h1, h2, h3, h4 {\n",
        "    color: #000002;\n",
        "    background-color: #1B175E;\n",
        "    background-image:\n",
        "      linear-gradient(to right,\n",
        "       #fff, #ffff00\n",
        "     );\n",
        "\n",
        "}\n",
        "\n",
        "h1, h2, h3, h4, p {\n",
        "    color: #000002;\n",
        "}\n",
        "\n",
        "a {\n",
        "    color: #1B175E;\n",
        "}\n",
        "</style>\n"
      ]
    },
    {
      "cell_type": "code",
      "execution_count": 1,
      "metadata": {
        "vscode": {
          "languageId": "r"
        },
        "id": "np_YHaypHpgb"
      },
      "outputs": [],
      "source": [
        "rm(list = ls())\n"
      ]
    },
    {
      "cell_type": "code",
      "execution_count": 2,
      "metadata": {
        "vscode": {
          "languageId": "r"
        },
        "colab": {
          "base_uri": "https://localhost:8080/"
        },
        "id": "wioluF_8Hpge",
        "outputId": "a737b596-6b0b-404f-c6a1-ad17f84a8661"
      },
      "outputs": [
        {
          "output_type": "stream",
          "name": "stderr",
          "text": [
            "Installing package into ‘/usr/local/lib/R/site-library’\n",
            "(as ‘lib’ is unspecified)\n",
            "\n",
            "also installing the dependencies ‘Rcpp’, ‘RcppTOML’, ‘here’, ‘png’, ‘config’, ‘tfautograph’, ‘reticulate’, ‘tensorflow’, ‘tfruns’, ‘zeallot’\n",
            "\n",
            "\n"
          ]
        }
      ],
      "source": [
        "install.packages('keras')\n",
        "library(keras)"
      ]
    },
    {
      "cell_type": "markdown",
      "metadata": {
        "id": "vshI4VN1Hpgi"
      },
      "source": [
        "# Modelo\n",
        "Vamos a crear una red neuronal que solo tenga una hidden layer. Vamos a usar la siguiente regla del pulgar para escoger el número de neuronas:\n",
        "$$N_h=\\frac{N_s}{\\alpha\\cdot(N_i+N_o)}$$\n",
        "En donde:\n",
        "- $N_i:$ Es el número de las neuronas inputs (número de columnas).\n",
        "- $N_o:$ Número de neuronas en la capa de salida (número de categorías posibles).\n",
        "- $N_s:$ Número de observaciones.\n",
        "- $\\alpha:$ Factor arbitrario entre 2 y 10.\n",
        "\n",
        "Se pueden crear n capas ocultas \n",
        "\n",
        "Tenemos la regla del pulgar que dice el estimado de más o menos cuantos nodos se deberían usar en una capa oculta.\n"
      ]
    },
    {
      "cell_type": "code",
      "source": [
        "# Importamos data, data_clean, tf_idf, tf_idf_reducido\n",
        "# https://github.com/ignaciomsarmiento/datasets/raw/main/datos_para_modelar.RData\n",
        "load(\"train_clean.RData\")"
      ],
      "metadata": {
        "id": "V7ydrAQPMKWq"
      },
      "execution_count": 3,
      "outputs": []
    },
    {
      "cell_type": "code",
      "source": [
        "sum(is.na(train_clean$name)) # data clean, mirar si tenemos datos faltantes"
      ],
      "metadata": {
        "colab": {
          "base_uri": "https://localhost:8080/",
          "height": 34
        },
        "id": "SRaOVOVpL4do",
        "outputId": "ff82d073-4025-4483-8ad2-31fada4257ba"
      },
      "execution_count": 4,
      "outputs": [
        {
          "output_type": "display_data",
          "data": {
            "text/html": [
              "0"
            ],
            "text/markdown": "0",
            "text/latex": "0",
            "text/plain": [
              "[1] 0"
            ]
          },
          "metadata": {}
        }
      ]
    },
    {
      "cell_type": "code",
      "source": [
        "table(train_clean$name)"
      ],
      "metadata": {
        "colab": {
          "base_uri": "https://localhost:8080/",
          "height": 69
        },
        "id": "AxlTm2ReL8Nw",
        "outputId": "c35832f1-4024-4606-d063-60fcdf4bd2d3"
      },
      "execution_count": 5,
      "outputs": [
        {
          "output_type": "display_data",
          "data": {
            "text/plain": [
              "\n",
              "   1    2    3 \n",
              "3468 2873 3000 "
            ]
          },
          "metadata": {}
        }
      ]
    },
    {
      "cell_type": "code",
      "source": [
        "library(dplyr)"
      ],
      "metadata": {
        "id": "RN_wYqr9PIpq"
      },
      "execution_count": 7,
      "outputs": []
    },
    {
      "cell_type": "code",
      "source": [
        "head(train_clean,10)"
      ],
      "metadata": {
        "colab": {
          "base_uri": "https://localhost:8080/",
          "height": 446
        },
        "id": "T0MrHsLLPN5D",
        "outputId": "3394be34-b1b8-4fbd-83fc-e3d51de0efa6"
      },
      "execution_count": 9,
      "outputs": [
        {
          "output_type": "display_data",
          "data": {
            "text/html": [
              "<table class=\"dataframe\">\n",
              "<caption>A tibble: 10 × 3</caption>\n",
              "<thead>\n",
              "\t<tr><th scope=col>id</th><th scope=col>name</th><th scope=col>texto</th></tr>\n",
              "\t<tr><th scope=col>&lt;chr&gt;</th><th scope=col>&lt;fct&gt;</th><th scope=col>&lt;chr&gt;</th></tr>\n",
              "</thead>\n",
              "<tbody>\n",
              "\t<tr><td>0002fd5a5cc196257335c0d7</td><td>1</td><td>manana feria santamario show arbol abundancia ir invito ir disfrutar familiar amigo evento preparado amor podar celebrar junto navidad                                                                    </td></tr>\n",
              "\t<tr><td>00049c5a2f555cfd13544693</td><td>3</td><td>amenazar asesinar asesinar columnista emerson grajal                                                                                                                                                      </td></tr>\n",
              "\t<tr><td>0005c20695e7b3a5babff571</td><td>1</td><td>policia concentrarse seguridad ciudadana prevencion delito captura delincuente desarticulacion banda criminal bogota necesitar policia distraer tema margen prioridad                                     </td></tr>\n",
              "\t<tr><td>0005f46356c00cc4f5702f01</td><td>1</td><td>iniciar mesa tecnico presidente ratifico gobierno pondria recurso adicional caso importante aclarar aclarar ra linea construccion contrato vigente colombiano obra ejecucion seguira                      </td></tr>\n",
              "\t<tr><td>000ba279c4a0ff679d8d3fdc</td><td>3</td><td>elevado costo energiar europar                                                                                                                                                                            </td></tr>\n",
              "\t<tr><td>0014838239be8f5311356c37</td><td>3</td><td>quema vehiculo extender suroeste antioquia                                                                                                                                                                </td></tr>\n",
              "\t<tr><td>0016e2ea721674d194c84565</td><td>1</td><td>arma poderoso confianza ciudadana rescatar deber reformar policia desmilitarizarla viejo practica conflicto armado reclutir formar vigile policia civilista dependa ministerio defensa fuero militar      </td></tr>\n",
              "\t<tr><td>002293cf41be87e10439d016</td><td>1</td><td>exterminio up huella fractura doloroso historia deber reconocer reconocer reconocer reparar reparar reparar repetir tanto amigo familia victima llorado padecido exterminio estigmar amor apoyo admiracion</td></tr>\n",
              "\t<tr><td>003777a80693e94fbb146f12</td><td>2</td><td>avance educativo bogota responsabikidad alcalde alcaldesa acerca promedio ocder bogota hacerse                                                                                                            </td></tr>\n",
              "\t<tr><td>003fde29492d13c9a1c3f66c</td><td>3</td><td>eliminar eliminar eliminar droga proteccion recurso natural sembrar hectarea droga eliminar hectarea bosque primario convencionescentrodemocratico                                                        </td></tr>\n",
              "</tbody>\n",
              "</table>\n"
            ],
            "text/markdown": "\nA tibble: 10 × 3\n\n| id &lt;chr&gt; | name &lt;fct&gt; | texto &lt;chr&gt; |\n|---|---|---|\n| 0002fd5a5cc196257335c0d7 | 1 | manana feria santamario show arbol abundancia ir invito ir disfrutar familiar amigo evento preparado amor podar celebrar junto navidad                                                                     |\n| 00049c5a2f555cfd13544693 | 3 | amenazar asesinar asesinar columnista emerson grajal                                                                                                                                                       |\n| 0005c20695e7b3a5babff571 | 1 | policia concentrarse seguridad ciudadana prevencion delito captura delincuente desarticulacion banda criminal bogota necesitar policia distraer tema margen prioridad                                      |\n| 0005f46356c00cc4f5702f01 | 1 | iniciar mesa tecnico presidente ratifico gobierno pondria recurso adicional caso importante aclarar aclarar ra linea construccion contrato vigente colombiano obra ejecucion seguira                       |\n| 000ba279c4a0ff679d8d3fdc | 3 | elevado costo energiar europar                                                                                                                                                                             |\n| 0014838239be8f5311356c37 | 3 | quema vehiculo extender suroeste antioquia                                                                                                                                                                 |\n| 0016e2ea721674d194c84565 | 1 | arma poderoso confianza ciudadana rescatar deber reformar policia desmilitarizarla viejo practica conflicto armado reclutir formar vigile policia civilista dependa ministerio defensa fuero militar       |\n| 002293cf41be87e10439d016 | 1 | exterminio up huella fractura doloroso historia deber reconocer reconocer reconocer reparar reparar reparar repetir tanto amigo familia victima llorado padecido exterminio estigmar amor apoyo admiracion |\n| 003777a80693e94fbb146f12 | 2 | avance educativo bogota responsabikidad alcalde alcaldesa acerca promedio ocder bogota hacerse                                                                                                             |\n| 003fde29492d13c9a1c3f66c | 3 | eliminar eliminar eliminar droga proteccion recurso natural sembrar hectarea droga eliminar hectarea bosque primario convencionescentrodemocratico                                                         |\n\n",
            "text/latex": "A tibble: 10 × 3\n\\begin{tabular}{lll}\n id & name & texto\\\\\n <chr> & <fct> & <chr>\\\\\n\\hline\n\t 0002fd5a5cc196257335c0d7 & 1 & manana feria santamario show arbol abundancia ir invito ir disfrutar familiar amigo evento preparado amor podar celebrar junto navidad                                                                    \\\\\n\t 00049c5a2f555cfd13544693 & 3 & amenazar asesinar asesinar columnista emerson grajal                                                                                                                                                      \\\\\n\t 0005c20695e7b3a5babff571 & 1 & policia concentrarse seguridad ciudadana prevencion delito captura delincuente desarticulacion banda criminal bogota necesitar policia distraer tema margen prioridad                                     \\\\\n\t 0005f46356c00cc4f5702f01 & 1 & iniciar mesa tecnico presidente ratifico gobierno pondria recurso adicional caso importante aclarar aclarar ra linea construccion contrato vigente colombiano obra ejecucion seguira                      \\\\\n\t 000ba279c4a0ff679d8d3fdc & 3 & elevado costo energiar europar                                                                                                                                                                            \\\\\n\t 0014838239be8f5311356c37 & 3 & quema vehiculo extender suroeste antioquia                                                                                                                                                                \\\\\n\t 0016e2ea721674d194c84565 & 1 & arma poderoso confianza ciudadana rescatar deber reformar policia desmilitarizarla viejo practica conflicto armado reclutir formar vigile policia civilista dependa ministerio defensa fuero militar      \\\\\n\t 002293cf41be87e10439d016 & 1 & exterminio up huella fractura doloroso historia deber reconocer reconocer reconocer reparar reparar reparar repetir tanto amigo familia victima llorado padecido exterminio estigmar amor apoyo admiracion\\\\\n\t 003777a80693e94fbb146f12 & 2 & avance educativo bogota responsabikidad alcalde alcaldesa acerca promedio ocder bogota hacerse                                                                                                            \\\\\n\t 003fde29492d13c9a1c3f66c & 3 & eliminar eliminar eliminar droga proteccion recurso natural sembrar hectarea droga eliminar hectarea bosque primario convencionescentrodemocratico                                                        \\\\\n\\end{tabular}\n",
            "text/plain": [
              "   id                       name\n",
              "1  0002fd5a5cc196257335c0d7 1   \n",
              "2  00049c5a2f555cfd13544693 3   \n",
              "3  0005c20695e7b3a5babff571 1   \n",
              "4  0005f46356c00cc4f5702f01 1   \n",
              "5  000ba279c4a0ff679d8d3fdc 3   \n",
              "6  0014838239be8f5311356c37 3   \n",
              "7  0016e2ea721674d194c84565 1   \n",
              "8  002293cf41be87e10439d016 1   \n",
              "9  003777a80693e94fbb146f12 2   \n",
              "10 003fde29492d13c9a1c3f66c 3   \n",
              "   texto                                                                                                                                                                                                     \n",
              "1  manana feria santamario show arbol abundancia ir invito ir disfrutar familiar amigo evento preparado amor podar celebrar junto navidad                                                                    \n",
              "2  amenazar asesinar asesinar columnista emerson grajal                                                                                                                                                      \n",
              "3  policia concentrarse seguridad ciudadana prevencion delito captura delincuente desarticulacion banda criminal bogota necesitar policia distraer tema margen prioridad                                     \n",
              "4  iniciar mesa tecnico presidente ratifico gobierno pondria recurso adicional caso importante aclarar aclarar ra linea construccion contrato vigente colombiano obra ejecucion seguira                      \n",
              "5  elevado costo energiar europar                                                                                                                                                                            \n",
              "6  quema vehiculo extender suroeste antioquia                                                                                                                                                                \n",
              "7  arma poderoso confianza ciudadana rescatar deber reformar policia desmilitarizarla viejo practica conflicto armado reclutir formar vigile policia civilista dependa ministerio defensa fuero militar      \n",
              "8  exterminio up huella fractura doloroso historia deber reconocer reconocer reconocer reparar reparar reparar repetir tanto amigo familia victima llorado padecido exterminio estigmar amor apoyo admiracion\n",
              "9  avance educativo bogota responsabikidad alcalde alcaldesa acerca promedio ocder bogota hacerse                                                                                                            \n",
              "10 eliminar eliminar eliminar droga proteccion recurso natural sembrar hectarea droga eliminar hectarea bosque primario convencionescentrodemocratico                                                        "
            ]
          },
          "metadata": {}
        }
      ]
    },
    {
      "cell_type": "code",
      "source": [
        "Y_train <- train_clean$name\n",
        "Y_train <- to_categorical(Y_train) # convertir en variable categorica"
      ],
      "metadata": {
        "id": "CxUZFgqAJUsb"
      },
      "execution_count": 10,
      "outputs": []
    },
    {
      "cell_type": "code",
      "source": [
        "head(Y_train,10)\n",
        "dim(Y_train)\n",
        "class(Y_train)"
      ],
      "metadata": {
        "colab": {
          "base_uri": "https://localhost:8080/",
          "height": 400
        },
        "id": "Z6cLzklbkFLP",
        "outputId": "4b078679-f3c0-4651-c109-9a4105eb3f03"
      },
      "execution_count": 11,
      "outputs": [
        {
          "output_type": "display_data",
          "data": {
            "text/html": [
              "<table class=\"dataframe\">\n",
              "<caption>A matrix: 10 × 4 of type dbl</caption>\n",
              "<tbody>\n",
              "\t<tr><td>0</td><td>1</td><td>0</td><td>0</td></tr>\n",
              "\t<tr><td>0</td><td>0</td><td>0</td><td>1</td></tr>\n",
              "\t<tr><td>0</td><td>1</td><td>0</td><td>0</td></tr>\n",
              "\t<tr><td>0</td><td>1</td><td>0</td><td>0</td></tr>\n",
              "\t<tr><td>0</td><td>0</td><td>0</td><td>1</td></tr>\n",
              "\t<tr><td>0</td><td>0</td><td>0</td><td>1</td></tr>\n",
              "\t<tr><td>0</td><td>1</td><td>0</td><td>0</td></tr>\n",
              "\t<tr><td>0</td><td>1</td><td>0</td><td>0</td></tr>\n",
              "\t<tr><td>0</td><td>0</td><td>1</td><td>0</td></tr>\n",
              "\t<tr><td>0</td><td>0</td><td>0</td><td>1</td></tr>\n",
              "</tbody>\n",
              "</table>\n"
            ],
            "text/markdown": "\nA matrix: 10 × 4 of type dbl\n\n| 0 | 1 | 0 | 0 |\n| 0 | 0 | 0 | 1 |\n| 0 | 1 | 0 | 0 |\n| 0 | 1 | 0 | 0 |\n| 0 | 0 | 0 | 1 |\n| 0 | 0 | 0 | 1 |\n| 0 | 1 | 0 | 0 |\n| 0 | 1 | 0 | 0 |\n| 0 | 0 | 1 | 0 |\n| 0 | 0 | 0 | 1 |\n\n",
            "text/latex": "A matrix: 10 × 4 of type dbl\n\\begin{tabular}{llll}\n\t 0 & 1 & 0 & 0\\\\\n\t 0 & 0 & 0 & 1\\\\\n\t 0 & 1 & 0 & 0\\\\\n\t 0 & 1 & 0 & 0\\\\\n\t 0 & 0 & 0 & 1\\\\\n\t 0 & 0 & 0 & 1\\\\\n\t 0 & 1 & 0 & 0\\\\\n\t 0 & 1 & 0 & 0\\\\\n\t 0 & 0 & 1 & 0\\\\\n\t 0 & 0 & 0 & 1\\\\\n\\end{tabular}\n",
            "text/plain": [
              "      [,1] [,2] [,3] [,4]\n",
              " [1,] 0    1    0    0   \n",
              " [2,] 0    0    0    1   \n",
              " [3,] 0    1    0    0   \n",
              " [4,] 0    1    0    0   \n",
              " [5,] 0    0    0    1   \n",
              " [6,] 0    0    0    1   \n",
              " [7,] 0    1    0    0   \n",
              " [8,] 0    1    0    0   \n",
              " [9,] 0    0    1    0   \n",
              "[10,] 0    0    0    1   "
            ]
          },
          "metadata": {}
        },
        {
          "output_type": "display_data",
          "data": {
            "text/html": [
              "<style>\n",
              ".list-inline {list-style: none; margin:0; padding: 0}\n",
              ".list-inline>li {display: inline-block}\n",
              ".list-inline>li:not(:last-child)::after {content: \"\\00b7\"; padding: 0 .5ex}\n",
              "</style>\n",
              "<ol class=list-inline><li>9341</li><li>4</li></ol>\n"
            ],
            "text/markdown": "1. 9341\n2. 4\n\n\n",
            "text/latex": "\\begin{enumerate*}\n\\item 9341\n\\item 4\n\\end{enumerate*}\n",
            "text/plain": [
              "[1] 9341    4"
            ]
          },
          "metadata": {}
        },
        {
          "output_type": "display_data",
          "data": {
            "text/html": [
              "<style>\n",
              ".list-inline {list-style: none; margin:0; padding: 0}\n",
              ".list-inline>li {display: inline-block}\n",
              ".list-inline>li:not(:last-child)::after {content: \"\\00b7\"; padding: 0 .5ex}\n",
              "</style>\n",
              "<ol class=list-inline><li>'matrix'</li><li>'array'</li></ol>\n"
            ],
            "text/markdown": "1. 'matrix'\n2. 'array'\n\n\n",
            "text/latex": "\\begin{enumerate*}\n\\item 'matrix'\n\\item 'array'\n\\end{enumerate*}\n",
            "text/plain": [
              "[1] \"matrix\" \"array\" "
            ]
          },
          "metadata": {}
        }
      ]
    },
    {
      "cell_type": "code",
      "source": [
        "load(\"tf_idf_train.RData\")"
      ],
      "metadata": {
        "id": "hNLrfpa_QtcU"
      },
      "execution_count": 12,
      "outputs": []
    },
    {
      "cell_type": "code",
      "source": [
        "X <- as.matrix(tf_idf_train) # matriz de frecuencias\n",
        "class(X)"
      ],
      "metadata": {
        "colab": {
          "base_uri": "https://localhost:8080/",
          "height": 34
        },
        "id": "DMxHLjLtMMCZ",
        "outputId": "8dcacf01-455b-4a6f-cbef-460bbc661501"
      },
      "execution_count": 13,
      "outputs": [
        {
          "output_type": "display_data",
          "data": {
            "text/html": [
              "<style>\n",
              ".list-inline {list-style: none; margin:0; padding: 0}\n",
              ".list-inline>li {display: inline-block}\n",
              ".list-inline>li:not(:last-child)::after {content: \"\\00b7\"; padding: 0 .5ex}\n",
              "</style>\n",
              "<ol class=list-inline><li>'matrix'</li><li>'array'</li></ol>\n"
            ],
            "text/markdown": "1. 'matrix'\n2. 'array'\n\n\n",
            "text/latex": "\\begin{enumerate*}\n\\item 'matrix'\n\\item 'array'\n\\end{enumerate*}\n",
            "text/plain": [
              "[1] \"matrix\" \"array\" "
            ]
          },
          "metadata": {}
        }
      ]
    },
    {
      "cell_type": "code",
      "source": [
        "dim(X) "
      ],
      "metadata": {
        "id": "py8d-AxJPOhA",
        "colab": {
          "base_uri": "https://localhost:8080/",
          "height": 34
        },
        "outputId": "502e2a22-671a-46f9-d90e-fce3ad297cad"
      },
      "execution_count": 14,
      "outputs": [
        {
          "output_type": "display_data",
          "data": {
            "text/html": [
              "<style>\n",
              ".list-inline {list-style: none; margin:0; padding: 0}\n",
              ".list-inline>li {display: inline-block}\n",
              ".list-inline>li:not(:last-child)::after {content: \"\\00b7\"; padding: 0 .5ex}\n",
              "</style>\n",
              "<ol class=list-inline><li>9341</li><li>17020</li></ol>\n"
            ],
            "text/markdown": "1. 9341\n2. 17020\n\n\n",
            "text/latex": "\\begin{enumerate*}\n\\item 9341\n\\item 17020\n\\end{enumerate*}\n",
            "text/plain": [
              "[1]  9341 17020"
            ]
          },
          "metadata": {}
        }
      ]
    },
    {
      "cell_type": "code",
      "source": [
        "columnas <- colSums(tf_idf_train) %>%\n",
        "  data.frame() %>%\n",
        "  arrange(desc(.)) %>%\n",
        "  head(250) %>% # Dejar las 250 columnas de palabras más importantes\n",
        "  rownames()"
      ],
      "metadata": {
        "id": "bjeusmWkceuG"
      },
      "execution_count": 15,
      "outputs": []
    },
    {
      "cell_type": "code",
      "source": [
        "tf_idf_train_reducido <- tf_idf_train %>% \n",
        "  select(all_of(columnas))"
      ],
      "metadata": {
        "id": "rb4RqkR6c4Xt"
      },
      "execution_count": 16,
      "outputs": []
    },
    {
      "cell_type": "code",
      "source": [
        "X_train <- as.matrix(tf_idf_train_reducido)\n",
        "dim(X_train)"
      ],
      "metadata": {
        "colab": {
          "base_uri": "https://localhost:8080/",
          "height": 34
        },
        "id": "3sLyhGUAdMsk",
        "outputId": "bd96bf83-c3b8-41bb-8974-404376db081a"
      },
      "execution_count": 17,
      "outputs": [
        {
          "output_type": "display_data",
          "data": {
            "text/html": [
              "<style>\n",
              ".list-inline {list-style: none; margin:0; padding: 0}\n",
              ".list-inline>li {display: inline-block}\n",
              ".list-inline>li:not(:last-child)::after {content: \"\\00b7\"; padding: 0 .5ex}\n",
              "</style>\n",
              "<ol class=list-inline><li>9341</li><li>250</li></ol>\n"
            ],
            "text/markdown": "1. 9341\n2. 250\n\n\n",
            "text/latex": "\\begin{enumerate*}\n\\item 9341\n\\item 250\n\\end{enumerate*}\n",
            "text/plain": [
              "[1] 9341  250"
            ]
          },
          "metadata": {}
        }
      ]
    },
    {
      "cell_type": "code",
      "source": [
        "#X_train <- as.matrix(tf_idf_train)\n",
        "dim(X_train)"
      ],
      "metadata": {
        "colab": {
          "base_uri": "https://localhost:8080/",
          "height": 34
        },
        "outputId": "8e45f229-c23d-459b-90cf-9e67ea5805f0",
        "id": "Q6j4U0tLxWjG"
      },
      "execution_count": 18,
      "outputs": [
        {
          "output_type": "display_data",
          "data": {
            "text/html": [
              "<style>\n",
              ".list-inline {list-style: none; margin:0; padding: 0}\n",
              ".list-inline>li {display: inline-block}\n",
              ".list-inline>li:not(:last-child)::after {content: \"\\00b7\"; padding: 0 .5ex}\n",
              "</style>\n",
              "<ol class=list-inline><li>9341</li><li>250</li></ol>\n"
            ],
            "text/markdown": "1. 9341\n2. 250\n\n\n",
            "text/latex": "\\begin{enumerate*}\n\\item 9341\n\\item 250\n\\end{enumerate*}\n",
            "text/plain": [
              "[1] 9341  250"
            ]
          },
          "metadata": {}
        }
      ]
    },
    {
      "cell_type": "code",
      "execution_count": 19,
      "metadata": {
        "vscode": {
          "languageId": "r"
        },
        "colab": {
          "base_uri": "https://localhost:8080/",
          "height": 34
        },
        "id": "TvxFy22AHpgi",
        "outputId": "f0ea7578-1df9-4f30-f48f-d84c3abd05a7"
      },
      "outputs": [
        {
          "output_type": "display_data",
          "data": {
            "text/html": [
              "18.4604743083004"
            ],
            "text/markdown": "18.4604743083004",
            "text/latex": "18.4604743083004",
            "text/plain": [
              "[1] 18.46047"
            ]
          },
          "metadata": {}
        }
      ],
      "source": [
        "set.seed(3312)\n",
        "\n",
        "n_h = nrow(X_train)/(2*(ncol(X_train) + 3)) # formula anterior de la regla del pulgar\n",
        "n_h\n",
        "\n"
      ]
    },
    {
      "cell_type": "code",
      "source": [
        "##Crear modelo. Dar en orden las capas de quiero\n",
        "model1 <- keras_model_sequential() \n",
        "\n",
        "model1 %>% \n",
        "  layer_dense(units = 20, activation = 'relu', input_shape = ncol(X_train)) %>% # capa de entrada, con función de activación \n",
        "  layer_dropout(rate = 0.5) %>% # eliminar el 40% de las neuronas\n",
        "  layer_dense(units = 10, activation = 'relu') %>%\n",
        "  layer_dropout(rate = 0.3) %>% # eliminar el 30% de las neuronas\n",
        "  layer_dense(units = 4, activation = 'softmax') # capa de salida\n",
        "summary(model1)\n",
        "\n",
        "  # units corresponde al valor de cateogrias que se quiere clasificar\n",
        "\n",
        "# Arquitectura del modelo\n",
        "model1 %>% compile(\n",
        "  optimizer = 'adam',\n",
        "  loss = 'categorical_crossentropy', # minimizar funcion de perdida\n",
        "  metrics = c('CategoricalAccuracy') \n",
        ")"
      ],
      "metadata": {
        "colab": {
          "base_uri": "https://localhost:8080/"
        },
        "id": "S2c1QyZdBJrN",
        "outputId": "4e39f3c9-84f2-4c03-cc42-41dab4dc33cc"
      },
      "execution_count": 20,
      "outputs": [
        {
          "output_type": "stream",
          "name": "stdout",
          "text": [
            "Model: \"sequential\"\n",
            "________________________________________________________________________________\n",
            " Layer (type)                       Output Shape                    Param #     \n",
            "================================================================================\n",
            " dense_2 (Dense)                    (None, 20)                      5020        \n",
            " dropout_1 (Dropout)                (None, 20)                      0           \n",
            " dense_1 (Dense)                    (None, 10)                      210         \n",
            " dropout (Dropout)                  (None, 10)                      0           \n",
            " dense (Dense)                      (None, 4)                       44          \n",
            "================================================================================\n",
            "Total params: 5,274\n",
            "Trainable params: 5,274\n",
            "Non-trainable params: 0\n",
            "________________________________________________________________________________\n"
          ]
        }
      ]
    },
    {
      "cell_type": "code",
      "source": [
        "history <- model1 %>% \n",
        "  fit(\n",
        "    X_train, Y_train, # entrenar el modelo\n",
        "    epochs = 600, # aprende 2 veces dentro de los baches de epoca\n",
        "    batch_size = 2^8, #tamaño de datos que quiero que aprende dentro del tamaño del bache\n",
        "    validation_split = 0.2 # set datos de entrenamiento para validar los parámetros\n",
        "  )\n",
        "\n",
        "#guarda lo que pasa en cada momento del tiempo"
      ],
      "metadata": {
        "id": "4vXQZAmXJszz"
      },
      "execution_count": 21,
      "outputs": []
    },
    {
      "cell_type": "code",
      "source": [
        "plot(history)"
      ],
      "metadata": {
        "colab": {
          "base_uri": "https://localhost:8080/",
          "height": 437
        },
        "id": "1j0YEJhaPZRJ",
        "outputId": "9d45b21a-2e98-4208-990a-6c4badfabda3"
      },
      "execution_count": 22,
      "outputs": [
        {
          "output_type": "display_data",
          "data": {
            "text/plain": [
              "plot without title"
            ],
            "image/png": "[encoded data removed]"
          },
          "metadata": {
            "image/png": {
              "width": 420,
              "height": 420
            }
          }
        }
      ]
    },
    {
      "cell_type": "code",
      "source": [
        "load(\"tf_idf_test.RData\")"
      ],
      "metadata": {
        "id": "y4_zsCvXm2BY"
      },
      "execution_count": 23,
      "outputs": []
    },
    {
      "cell_type": "code",
      "source": [
        "columnas <- colSums(tf_idf_test) %>%\n",
        "  data.frame() %>%\n",
        "  arrange(desc(.)) %>%\n",
        "  head(250) %>% # Dejar las 250 columnas de palabras más importantes\n",
        "  rownames()"
      ],
      "metadata": {
        "id": "yez6ilalmqEK"
      },
      "execution_count": 24,
      "outputs": []
    },
    {
      "cell_type": "code",
      "source": [
        "tf_idf_test_reducido <- tf_idf_test %>% \n",
        "  select(all_of(columnas))"
      ],
      "metadata": {
        "id": "PSsCQFBCm6uz"
      },
      "execution_count": 25,
      "outputs": []
    },
    {
      "cell_type": "code",
      "source": [
        "X_test <- as.matrix(tf_idf_test_reducido)\n",
        "dim(X_test)"
      ],
      "metadata": {
        "colab": {
          "base_uri": "https://localhost:8080/",
          "height": 34
        },
        "id": "dgt8YRmSm_s0",
        "outputId": "96165b94-6683-487d-ec40-e485f5bbc7b7"
      },
      "execution_count": 26,
      "outputs": [
        {
          "output_type": "display_data",
          "data": {
            "text/html": [
              "<style>\n",
              ".list-inline {list-style: none; margin:0; padding: 0}\n",
              ".list-inline>li {display: inline-block}\n",
              ".list-inline>li:not(:last-child)::after {content: \"\\00b7\"; padding: 0 .5ex}\n",
              "</style>\n",
              "<ol class=list-inline><li>1499</li><li>250</li></ol>\n"
            ],
            "text/markdown": "1. 1499\n2. 250\n\n\n",
            "text/latex": "\\begin{enumerate*}\n\\item 1499\n\\item 250\n\\end{enumerate*}\n",
            "text/plain": [
              "[1] 1499  250"
            ]
          },
          "metadata": {}
        }
      ]
    },
    {
      "cell_type": "code",
      "source": [
        "y_hat <- model1 %>% predict(X_test) %>% k_argmax()\n",
        "head(y_hat)"
      ],
      "metadata": {
        "colab": {
          "base_uri": "https://localhost:8080/",
          "height": 34
        },
        "id": "1FmCklKnPo6w",
        "outputId": "15037dac-18cf-4481-be8f-91e24f933ee1"
      },
      "execution_count": 27,
      "outputs": [
        {
          "output_type": "display_data",
          "data": {
            "text/plain": [
              "tf.Tensor([2 1 3 2 1 3], shape=(6), dtype=int64)"
            ]
          },
          "metadata": {}
        }
      ]
    },
    {
      "cell_type": "code",
      "source": [
        "prediccion <- factor(as.numeric(y_hat), levels = 1:3, labels = c(\"Lopez\", \"Petro\", \"Uribe\"))\n",
        "head(prediccion,10)"
      ],
      "metadata": {
        "colab": {
          "base_uri": "https://localhost:8080/",
          "height": 52
        },
        "id": "iBJt9fKspmBO",
        "outputId": "54c68470-7f15-4aee-ddbb-575183b9d437"
      },
      "execution_count": 29,
      "outputs": [
        {
          "output_type": "display_data",
          "data": {
            "text/html": [
              "<style>\n",
              ".list-inline {list-style: none; margin:0; padding: 0}\n",
              ".list-inline>li {display: inline-block}\n",
              ".list-inline>li:not(:last-child)::after {content: \"\\00b7\"; padding: 0 .5ex}\n",
              "</style>\n",
              "<ol class=list-inline><li>Petro</li><li>Lopez</li><li>Uribe</li><li>Petro</li><li>Lopez</li><li>Uribe</li><li>Lopez</li><li>Lopez</li><li>Lopez</li><li>Lopez</li></ol>\n",
              "\n",
              "<details>\n",
              "\t<summary style=display:list-item;cursor:pointer>\n",
              "\t\t<strong>Levels</strong>:\n",
              "\t</summary>\n",
              "\t<style>\n",
              "\t.list-inline {list-style: none; margin:0; padding: 0}\n",
              "\t.list-inline>li {display: inline-block}\n",
              "\t.list-inline>li:not(:last-child)::after {content: \"\\00b7\"; padding: 0 .5ex}\n",
              "\t</style>\n",
              "\t<ol class=list-inline><li>'Lopez'</li><li>'Petro'</li><li>'Uribe'</li></ol>\n",
              "</details>"
            ],
            "text/markdown": "1. Petro\n2. Lopez\n3. Uribe\n4. Petro\n5. Lopez\n6. Uribe\n7. Lopez\n8. Lopez\n9. Lopez\n10. Lopez\n\n\n\n**Levels**: 1. 'Lopez'\n2. 'Petro'\n3. 'Uribe'\n\n\n",
            "text/latex": "\\begin{enumerate*}\n\\item Petro\n\\item Lopez\n\\item Uribe\n\\item Petro\n\\item Lopez\n\\item Uribe\n\\item Lopez\n\\item Lopez\n\\item Lopez\n\\item Lopez\n\\end{enumerate*}\n\n\\emph{Levels}: \\begin{enumerate*}\n\\item 'Lopez'\n\\item 'Petro'\n\\item 'Uribe'\n\\end{enumerate*}\n",
            "text/plain": [
              " [1] Petro Lopez Uribe Petro Lopez Uribe Lopez Lopez Lopez Lopez\n",
              "Levels: Lopez Petro Uribe"
            ]
          },
          "metadata": {}
        }
      ]
    },
    {
      "cell_type": "code",
      "source": [
        "load(\"test_clean.RData\")"
      ],
      "metadata": {
        "id": "E0wxnYTypCYi"
      },
      "execution_count": 30,
      "outputs": []
    },
    {
      "cell_type": "code",
      "source": [
        "resultado <- data.frame(test_clean$id, prediccion)\n",
        "head(resultado,10)"
      ],
      "metadata": {
        "colab": {
          "base_uri": "https://localhost:8080/",
          "height": 412
        },
        "id": "3Qu2jv96os4U",
        "outputId": "10d8271c-3b59-4925-ac0f-5cc5bb56c43c"
      },
      "execution_count": 31,
      "outputs": [
        {
          "output_type": "display_data",
          "data": {
            "text/html": [
              "<table class=\"dataframe\">\n",
              "<caption>A data.frame: 10 × 2</caption>\n",
              "<thead>\n",
              "\t<tr><th></th><th scope=col>test_clean.id</th><th scope=col>prediccion</th></tr>\n",
              "\t<tr><th></th><th scope=col>&lt;chr&gt;</th><th scope=col>&lt;fct&gt;</th></tr>\n",
              "</thead>\n",
              "<tbody>\n",
              "\t<tr><th scope=row>1</th><td>0004d31c290018d960ea1b61</td><td>Petro</td></tr>\n",
              "\t<tr><th scope=row>2</th><td>001387a7e556a17e9af9e684</td><td>Lopez</td></tr>\n",
              "\t<tr><th scope=row>3</th><td>0017570ee84b80e1c3e10218</td><td>Uribe</td></tr>\n",
              "\t<tr><th scope=row>4</th><td>0036f3d867393f8effa12b66</td><td>Petro</td></tr>\n",
              "\t<tr><th scope=row>5</th><td>004508bf8e624f9656fdf9ec</td><td>Lopez</td></tr>\n",
              "\t<tr><th scope=row>6</th><td>0052da408e75b7813dbcc512</td><td>Uribe</td></tr>\n",
              "\t<tr><th scope=row>7</th><td>007bdeb03c21d2f9d469ddad</td><td>Lopez</td></tr>\n",
              "\t<tr><th scope=row>8</th><td>0082edc86dfa7e2d6e95bd4d</td><td>Lopez</td></tr>\n",
              "\t<tr><th scope=row>9</th><td>0087a99cd90e95c19e3b037b</td><td>Lopez</td></tr>\n",
              "\t<tr><th scope=row>10</th><td>00945da0872f1e8c687dea2f</td><td>Lopez</td></tr>\n",
              "</tbody>\n",
              "</table>\n"
            ],
            "text/markdown": "\nA data.frame: 10 × 2\n\n| <!--/--> | test_clean.id &lt;chr&gt; | prediccion &lt;fct&gt; |\n|---|---|---|\n| 1 | 0004d31c290018d960ea1b61 | Petro |\n| 2 | 001387a7e556a17e9af9e684 | Lopez |\n| 3 | 0017570ee84b80e1c3e10218 | Uribe |\n| 4 | 0036f3d867393f8effa12b66 | Petro |\n| 5 | 004508bf8e624f9656fdf9ec | Lopez |\n| 6 | 0052da408e75b7813dbcc512 | Uribe |\n| 7 | 007bdeb03c21d2f9d469ddad | Lopez |\n| 8 | 0082edc86dfa7e2d6e95bd4d | Lopez |\n| 9 | 0087a99cd90e95c19e3b037b | Lopez |\n| 10 | 00945da0872f1e8c687dea2f | Lopez |\n\n",
            "text/latex": "A data.frame: 10 × 2\n\\begin{tabular}{r|ll}\n  & test\\_clean.id & prediccion\\\\\n  & <chr> & <fct>\\\\\n\\hline\n\t1 & 0004d31c290018d960ea1b61 & Petro\\\\\n\t2 & 001387a7e556a17e9af9e684 & Lopez\\\\\n\t3 & 0017570ee84b80e1c3e10218 & Uribe\\\\\n\t4 & 0036f3d867393f8effa12b66 & Petro\\\\\n\t5 & 004508bf8e624f9656fdf9ec & Lopez\\\\\n\t6 & 0052da408e75b7813dbcc512 & Uribe\\\\\n\t7 & 007bdeb03c21d2f9d469ddad & Lopez\\\\\n\t8 & 0082edc86dfa7e2d6e95bd4d & Lopez\\\\\n\t9 & 0087a99cd90e95c19e3b037b & Lopez\\\\\n\t10 & 00945da0872f1e8c687dea2f & Lopez\\\\\n\\end{tabular}\n",
            "text/plain": [
              "   test_clean.id            prediccion\n",
              "1  0004d31c290018d960ea1b61 Petro     \n",
              "2  001387a7e556a17e9af9e684 Lopez     \n",
              "3  0017570ee84b80e1c3e10218 Uribe     \n",
              "4  0036f3d867393f8effa12b66 Petro     \n",
              "5  004508bf8e624f9656fdf9ec Lopez     \n",
              "6  0052da408e75b7813dbcc512 Uribe     \n",
              "7  007bdeb03c21d2f9d469ddad Lopez     \n",
              "8  0082edc86dfa7e2d6e95bd4d Lopez     \n",
              "9  0087a99cd90e95c19e3b037b Lopez     \n",
              "10 00945da0872f1e8c687dea2f Lopez     "
            ]
          },
          "metadata": {}
        }
      ]
    },
    {
      "cell_type": "code",
      "source": [
        "names(resultado)[1] <- \"id\"\n",
        "names(resultado)[2] <- \"name\"\n",
        "head(resultado,10)"
      ],
      "metadata": {
        "colab": {
          "base_uri": "https://localhost:8080/",
          "height": 412
        },
        "id": "uX0X8L-8uMxL",
        "outputId": "537ab6c4-5c81-412f-a05e-cb5d785b6e57"
      },
      "execution_count": 32,
      "outputs": [
        {
          "output_type": "display_data",
          "data": {
            "text/html": [
              "<table class=\"dataframe\">\n",
              "<caption>A data.frame: 10 × 2</caption>\n",
              "<thead>\n",
              "\t<tr><th></th><th scope=col>id</th><th scope=col>name</th></tr>\n",
              "\t<tr><th></th><th scope=col>&lt;chr&gt;</th><th scope=col>&lt;fct&gt;</th></tr>\n",
              "</thead>\n",
              "<tbody>\n",
              "\t<tr><th scope=row>1</th><td>0004d31c290018d960ea1b61</td><td>Petro</td></tr>\n",
              "\t<tr><th scope=row>2</th><td>001387a7e556a17e9af9e684</td><td>Lopez</td></tr>\n",
              "\t<tr><th scope=row>3</th><td>0017570ee84b80e1c3e10218</td><td>Uribe</td></tr>\n",
              "\t<tr><th scope=row>4</th><td>0036f3d867393f8effa12b66</td><td>Petro</td></tr>\n",
              "\t<tr><th scope=row>5</th><td>004508bf8e624f9656fdf9ec</td><td>Lopez</td></tr>\n",
              "\t<tr><th scope=row>6</th><td>0052da408e75b7813dbcc512</td><td>Uribe</td></tr>\n",
              "\t<tr><th scope=row>7</th><td>007bdeb03c21d2f9d469ddad</td><td>Lopez</td></tr>\n",
              "\t<tr><th scope=row>8</th><td>0082edc86dfa7e2d6e95bd4d</td><td>Lopez</td></tr>\n",
              "\t<tr><th scope=row>9</th><td>0087a99cd90e95c19e3b037b</td><td>Lopez</td></tr>\n",
              "\t<tr><th scope=row>10</th><td>00945da0872f1e8c687dea2f</td><td>Lopez</td></tr>\n",
              "</tbody>\n",
              "</table>\n"
            ],
            "text/markdown": "\nA data.frame: 10 × 2\n\n| <!--/--> | id &lt;chr&gt; | name &lt;fct&gt; |\n|---|---|---|\n| 1 | 0004d31c290018d960ea1b61 | Petro |\n| 2 | 001387a7e556a17e9af9e684 | Lopez |\n| 3 | 0017570ee84b80e1c3e10218 | Uribe |\n| 4 | 0036f3d867393f8effa12b66 | Petro |\n| 5 | 004508bf8e624f9656fdf9ec | Lopez |\n| 6 | 0052da408e75b7813dbcc512 | Uribe |\n| 7 | 007bdeb03c21d2f9d469ddad | Lopez |\n| 8 | 0082edc86dfa7e2d6e95bd4d | Lopez |\n| 9 | 0087a99cd90e95c19e3b037b | Lopez |\n| 10 | 00945da0872f1e8c687dea2f | Lopez |\n\n",
            "text/latex": "A data.frame: 10 × 2\n\\begin{tabular}{r|ll}\n  & id & name\\\\\n  & <chr> & <fct>\\\\\n\\hline\n\t1 & 0004d31c290018d960ea1b61 & Petro\\\\\n\t2 & 001387a7e556a17e9af9e684 & Lopez\\\\\n\t3 & 0017570ee84b80e1c3e10218 & Uribe\\\\\n\t4 & 0036f3d867393f8effa12b66 & Petro\\\\\n\t5 & 004508bf8e624f9656fdf9ec & Lopez\\\\\n\t6 & 0052da408e75b7813dbcc512 & Uribe\\\\\n\t7 & 007bdeb03c21d2f9d469ddad & Lopez\\\\\n\t8 & 0082edc86dfa7e2d6e95bd4d & Lopez\\\\\n\t9 & 0087a99cd90e95c19e3b037b & Lopez\\\\\n\t10 & 00945da0872f1e8c687dea2f & Lopez\\\\\n\\end{tabular}\n",
            "text/plain": [
              "   id                       name \n",
              "1  0004d31c290018d960ea1b61 Petro\n",
              "2  001387a7e556a17e9af9e684 Lopez\n",
              "3  0017570ee84b80e1c3e10218 Uribe\n",
              "4  0036f3d867393f8effa12b66 Petro\n",
              "5  004508bf8e624f9656fdf9ec Lopez\n",
              "6  0052da408e75b7813dbcc512 Uribe\n",
              "7  007bdeb03c21d2f9d469ddad Lopez\n",
              "8  0082edc86dfa7e2d6e95bd4d Lopez\n",
              "9  0087a99cd90e95c19e3b037b Lopez\n",
              "10 00945da0872f1e8c687dea2f Lopez"
            ]
          },
          "metadata": {}
        }
      ]
    },
    {
      "cell_type": "code",
      "source": [
        "# Tweet faltante\n",
        "test <- read.csv(\"test.csv\")\n",
        "tweet_faltante <- setdiff(test$id, resultado$id)\n",
        "tweet_faltante"
      ],
      "metadata": {
        "colab": {
          "base_uri": "https://localhost:8080/",
          "height": 34
        },
        "id": "5k2AwkYEvF3N",
        "outputId": "0470d809-a8d0-4cc5-e9e1-25b7ecb1f023"
      },
      "execution_count": 33,
      "outputs": [
        {
          "output_type": "display_data",
          "data": {
            "text/html": [
              "'cb9ac947c675464803342fc9'"
            ],
            "text/markdown": "'cb9ac947c675464803342fc9'",
            "text/latex": "'cb9ac947c675464803342fc9'",
            "text/plain": [
              "[1] \"cb9ac947c675464803342fc9\""
            ]
          },
          "metadata": {}
        }
      ]
    },
    {
      "cell_type": "code",
      "source": [
        "y_hat_faltante <- data.frame(id = \"cb9ac947c675464803342fc9\", name = \"Lopez\")\n",
        "resultado <- rbind(resultado, y_hat_faltante)"
      ],
      "metadata": {
        "id": "UGuQaUXLviOL"
      },
      "execution_count": 34,
      "outputs": []
    },
    {
      "cell_type": "code",
      "source": [
        "write.csv(resultado, 'Red_Neuronal3.csv',row.names=FALSE)"
      ],
      "metadata": {
        "id": "XdrjBLFTwYYG"
      },
      "execution_count": 35,
      "outputs": []
    }
  ],
  "metadata": {
    "anaconda-cloud": "",
    "kernelspec": {
      "display_name": "R",
      "langauge": "R",
      "name": "ir"
    },
    "language_info": {
      "codemirror_mode": "r",
      "file_extension": ".r",
      "mimetype": "text/x-r-source",
      "name": "R",
      "pygments_lexer": "r",
      "version": "3.4.1"
    },
    "colab": {
      "provenance": [],
      "include_colab_link": true
    }
  },
  "nbformat": 4,
  "nbformat_minor": 0
}